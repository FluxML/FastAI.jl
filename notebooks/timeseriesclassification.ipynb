{
 "cells": [
  {
   "cell_type": "code",
   "execution_count": 1,
   "id": "7e4529e7",
   "metadata": {},
   "outputs": [
    {
     "name": "stderr",
     "output_type": "stream",
     "text": [
      "┌ Info: Precompiling FastAI [5d0beca9-ade8-49ae-ad0b-a3cf890e669f]\n",
      "└ @ Base loading.jl:1423\n"
     ]
    }
   ],
   "source": [
    "using FastAI"
   ]
  },
  {
   "cell_type": "markdown",
   "id": "4c360908",
   "metadata": {},
   "source": [
    "# TimeSeries Classification"
   ]
  },
  {
   "cell_type": "code",
   "execution_count": 2,
   "id": "c4420a53",
   "metadata": {},
   "outputs": [],
   "source": [
    "data, blocks = load(datarecipes()[\"ecg5000\"]);"
   ]
  },
  {
   "cell_type": "markdown",
   "id": "8ba5f855",
   "metadata": {},
   "source": [
    "`getobs` gets us a sample from the TimeSeriesDataset. It returns a tuple with the input time series and the correspodning label."
   ]
  },
  {
   "cell_type": "code",
   "execution_count": 8,
   "id": "ece7f2ff",
   "metadata": {},
   "outputs": [
    {
     "data": {
      "text/plain": [
       "(Float32[-0.28834122 -2.2725453 … 1.722784 1.2959242], \"1\")"
      ]
     },
     "execution_count": 8,
     "metadata": {},
     "output_type": "execute_result"
    }
   ],
   "source": [
    "input, class = sample = getobs(data, 25)"
   ]
  },
  {
   "cell_type": "markdown",
   "id": "a31c504f",
   "metadata": {},
   "source": [
    "Now we create a learning task for time-series classification. This means using the time-series to predict labels. We will use the `TimeSeriesRow` block as input and `Label` block as the target."
   ]
  },
  {
   "cell_type": "code",
   "execution_count": 7,
   "id": "0db48723",
   "metadata": {},
   "outputs": [
    {
     "data": {
      "text/plain": [
       "SupervisedTask(TimeSeriesRow -> Label{SubString{String}})"
      ]
     },
     "execution_count": 7,
     "metadata": {},
     "output_type": "execute_result"
    }
   ],
   "source": [
    "task = SupervisedTask(\n",
    "    blocks,\n",
    "    (\n",
    "        OneHot(),\n",
    "        setup(TSPreprocessing, blocks[1], data[1].table)\n",
    "    )\n",
    ")"
   ]
  },
  {
   "cell_type": "markdown",
   "id": "e7b83d74",
   "metadata": {},
   "source": [
    "The encodings passed in transform samples into formats suitable as inputs and outputs for a model"
   ]
  },
  {
   "cell_type": "markdown",
   "id": "78f8c144",
   "metadata": {},
   "source": [
    "Let's check that samples from the created data container conform to the blocks of the learning task:"
   ]
  },
  {
   "cell_type": "code",
   "execution_count": 9,
   "id": "b9f2158a",
   "metadata": {},
   "outputs": [
    {
     "data": {
      "text/plain": [
       "true"
      ]
     },
     "execution_count": 9,
     "metadata": {},
     "output_type": "execute_result"
    }
   ],
   "source": [
    "checkblock(task.blocks.sample, sample)"
   ]
  },
  {
   "cell_type": "markdown",
   "id": "38e65919",
   "metadata": {},
   "source": [
    "To get an overview of the learning task created, and as a sanity test, we can use describetask. This shows us what encodings will be applied to which blocks, and how the predicted ŷ values are decoded."
   ]
  },
  {
   "cell_type": "code",
   "execution_count": 4,
   "id": "8ed71038",
   "metadata": {},
   "outputs": [
    {
     "data": {
      "text/latex": [
       "\\textbf{\\texttt{SupervisedTask} summary}\n",
       "\n",
       "Learning task for the supervised task with input \\texttt{TimeSeriesRow} and target \\texttt{Label\\{SubString\\{String\\}\\}}. Compatible with \\texttt{model}s that take in \\texttt{TimeSeriesRow} and output \\texttt{OneHotLabel\\{SubString\\{String\\}\\}}.\n",
       "\n",
       "Encoding a sample (\\texttt{encodesample(task, context, sample)}) is done through the following encodings:\n",
       "\n",
       "\\begin{tabular}\n",
       "{r | r | r | r}\n",
       "Encoding & Name & \\texttt{blocks.input} & \\texttt{blocks.target} \\\\\n",
       "\\hline\n",
       " & \\texttt{(input, target)} & \\texttt{TimeSeriesRow} & \\texttt{Label\\{SubString\\{String\\}\\}} \\\\\n",
       "\\texttt{OneHot} &  &  & \\textbf{\\texttt{OneHotLabel\\{SubString\\{String\\}\\}}} \\\\\n",
       "\\texttt{TSPreprocessing} & \\texttt{(x, y)} & \\textbf{\\texttt{TimeSeriesRow}} &  \\\\\n",
       "\\end{tabular}\n"
      ],
      "text/markdown": [
       "**`SupervisedTask` summary**\n",
       "\n",
       "Learning task for the supervised task with input `TimeSeriesRow` and target `Label{SubString{String}}`. Compatible with `model`s that take in `TimeSeriesRow` and output `OneHotLabel{SubString{String}}`.\n",
       "\n",
       "Encoding a sample (`encodesample(task, context, sample)`) is done through the following encodings:\n",
       "\n",
       "|          Encoding |              Name |      `blocks.input` |                      `blocks.target` |\n",
       "| -----------------:| -----------------:| -------------------:| ------------------------------------:|\n",
       "|                   | `(input, target)` |     `TimeSeriesRow` |           `Label{SubString{String}}` |\n",
       "|          `OneHot` |                   |                     | **`OneHotLabel{SubString{String}}`** |\n",
       "| `TSPreprocessing` |          `(x, y)` | **`TimeSeriesRow`** |                                      |\n"
      ],
      "text/plain": [
       "  \u001b[1m\u001b[36mSupervisedTask\u001b[39m summary\u001b[22m\n",
       "\n",
       "  Learning task for the supervised task with input \u001b[36mTimeSeriesRow\u001b[39m and target\n",
       "  \u001b[36mLabel{SubString{String}}\u001b[39m. Compatible with \u001b[36mmodel\u001b[39ms that take in \u001b[36mTimeSeriesRow\u001b[39m\n",
       "  and output \u001b[36mOneHotLabel{SubString{String}}\u001b[39m.\n",
       "\n",
       "  Encoding a sample (\u001b[36mencodesample(task, context, sample)\u001b[39m) is done through the\n",
       "  following encodings:\n",
       "\n",
       "         Encoding            Name  \u001b[36mblocks.input\u001b[39m                  \u001b[36mblocks.target\u001b[39m\n",
       "  ––––––––––––––– ––––––––––––––– ––––––––––––– ––––––––––––––––––––––––––––––\n",
       "                  \u001b[36m(input, target)\u001b[39m \u001b[36mTimeSeriesRow\u001b[39m       \u001b[36mLabel{SubString{String}}\u001b[39m\n",
       "           \u001b[36mOneHot\u001b[39m                               \u001b[1m\u001b[36mOneHotLabel{SubString{String}}\u001b[39m\u001b[22m\n",
       "  \u001b[36mTSPreprocessing\u001b[39m          \u001b[36m(x, y)\u001b[39m \u001b[1m\u001b[36mTimeSeriesRow\u001b[39m\u001b[22m                               "
      ]
     },
     "execution_count": 4,
     "metadata": {},
     "output_type": "execute_result"
    }
   ],
   "source": [
    "describetask(task)"
   ]
  },
  {
   "cell_type": "code",
   "execution_count": 11,
   "id": "1d591875",
   "metadata": {},
   "outputs": [
    {
     "data": {
      "text/plain": [
       "(Float32[-0.28937635 -2.2807038 … 1.7289687 1.3005764], Float32[1.0, 0.0, 0.0, 0.0, 0.0])"
      ]
     },
     "execution_count": 11,
     "metadata": {},
     "output_type": "execute_result"
    }
   ],
   "source": [
    "encoded_sample = encodesample(task, Training(), sample)"
   ]
  },
  {
   "cell_type": "code",
   "execution_count": null,
   "id": "cd41cd5c",
   "metadata": {},
   "outputs": [],
   "source": []
  }
 ],
 "metadata": {
  "kernelspec": {
   "display_name": "Julia 1.7.3",
   "language": "julia",
   "name": "julia-1.7"
  },
  "language_info": {
   "file_extension": ".jl",
   "mimetype": "application/julia",
   "name": "julia",
   "version": "1.7.3"
  }
 },
 "nbformat": 4,
 "nbformat_minor": 5
}

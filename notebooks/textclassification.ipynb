{
 "cells": [
  {
   "cell_type": "markdown",
   "metadata": {},
   "source": [
    "# Text Classification"
   ]
  },
  {
   "cell_type": "markdown",
   "metadata": {},
   "source": [
    "We'll use the [IMDB](http://ai.stanford.edu/~amaas/data/sentiment/) dataset for this task. This is a dataset for binary sentiment classification containing 25,000 highly polarized movie reviews for training, and 25,000 for testing. There is additional unlabeled data for use as well."
   ]
  },
  {
   "cell_type": "code",
   "execution_count": 1,
   "metadata": {},
   "outputs": [],
   "source": [
    "using FastAI"
   ]
  },
  {
   "cell_type": "code",
   "execution_count": 4,
   "metadata": {},
   "outputs": [
    {
     "data": {
      "text/plain": [
       "((mapobs(loadfile, ObsView(::MLDatasets.FileDataset{typeof(identity), String}, ::Vector{Int64})), mapobs(parentname, ObsView(::MLDatasets.FileDataset{typeof(identity), String}, ::Vector{Int64}))), (Paragraph(), Label{String}([\"neg\", \"pos\"])))"
      ]
     },
     "metadata": {},
     "output_type": "display_data"
    }
   ],
   "source": [
    "data, blocks = load(datarecipes()[\"imdb\"])\n"
   ]
  },
  {
   "cell_type": "markdown",
   "metadata": {},
   "source": [
    "Each sample is a review, this'll be our input data. The output is the sentiment of the input, either positive or negative."
   ]
  },
  {
   "cell_type": "code",
   "execution_count": 13,
   "metadata": {},
   "outputs": [
    {
     "name": "stdout",
     "output_type": "stream",
     "text": [
      "Sample = (\"Story of a man who has unnatural feelings for a pig. Starts out with a opening scene that is a terrific example of absurd comedy. A formal orchestra audience is turned into an insane, violent mob by the crazy chantings of it's singers. Unfortunately it stays absurd the WHOLE time with no general narrative eventually making it just too off putting. Even those from the era should be turned off. The cryptic dialogue would make Shakespeare seem easy to a third grader. On a technical level it's better than you might think with some good cinematography by future great Vilmos Zsigmond. Future stars Sally Kirkland and Frederic Forrest can be seen briefly.\", \"neg\")\n",
      "Block = (Paragraph(), Label{String}([\"neg\", \"pos\"]))\n"
     ]
    }
   ],
   "source": [
    "println(\"Sample = \",getobs(data, 1))\n",
    "println(\"Block = \",blocks)"
   ]
  },
  {
   "cell_type": "code",
   "execution_count": 15,
   "metadata": {},
   "outputs": [
    {
     "data": {
      "text/plain": [
       "SupervisedTask(Paragraph -> Label{String})"
      ]
     },
     "metadata": {},
     "output_type": "display_data"
    }
   ],
   "source": [
    "task = FastAI.TextClassificationSingle(blocks, data)"
   ]
  },
  {
   "cell_type": "markdown",
   "metadata": {},
   "source": [
    "The task consists of encodings that needs to be applied to the input data and output data.\n",
    "\n",
    "The encodings for the input data are as follows:\n",
    "- **Sanitize**: Involves text cleaning steps like case trimming, remove punctuations, removing stop words, and some fastai specific preprocessing steps (xxbos, xxup, etc).\n",
    "- **Tokenize**: Tokenizing the text into words.\n",
    "- **EmbedVocabulary**: Embedding the words into a vector space. This step constructs the vocabulary for the training data and returns the vector embedding for the input data."
   ]
  },
  {
   "cell_type": "code",
   "execution_count": 16,
   "metadata": {},
   "outputs": [
    {
     "data": {
      "text/plain": [
       "(Sanitize(Function[FastAI.Textual.replace_all_caps, FastAI.Textual.replace_sentence_case, FastAI.Textual.convert_lowercase, FastAI.Textual.remove_punctuations, FastAI.Textual.basic_preprocessing, FastAI.Textual.remove_extraspaces]), Tokenize([FastAI.Textual.tokenize]), FastAI.Textual.EmbedVocabulary(OrderedCollections.OrderedDict(\"redeemiing\" => 1, \"poulange\" => 1, \"inattentive\" => 1, \"sleepwalking\" => 20, \"photosynthesis\" => 1, \"lunk\" => 1, \"henry\" => 407, \"whiz\" => 16, \"redresses\" => 1, \"gathered\" => 38…)), OneHot{DataType}(Float32, 0.5f0))"
      ]
     },
     "metadata": {},
     "output_type": "display_data"
    }
   ],
   "source": [
    "task.encodings"
   ]
  },
  {
   "cell_type": "code",
   "execution_count": 23,
   "metadata": {},
   "outputs": [
    {
     "data": {
      "text/plain": [
       "(\"Story of a man who has unnatural feelings for a pig. Starts out with a opening scene that is a terrific example of absurd comedy. A formal orchestra audience is turned into an insane, violent mob by the crazy chantings of it's singers. Unfortunately it stays absurd the WHOLE time with no general narrative eventually making it just too off putting. Even those from the era should be turned off. The cryptic dialogue would make Shakespeare seem easy to a third grader. On a technical level it's better than you might think with some good cinematography by future great Vilmos Zsigmond. Future stars Sally Kirkland and Frederic Forrest can be seen briefly.\", \"neg\")"
      ]
     },
     "metadata": {},
     "output_type": "display_data"
    }
   ],
   "source": [
    "input, target = getobs(data, 1)"
   ]
  },
  {
   "cell_type": "code",
   "execution_count": 35,
   "metadata": {},
   "outputs": [
    {
     "name": "stdout",
     "output_type": "stream",
     "text": [
      "[25000, 633779, 11990, 46, 395, 102, 633779, 1220, 5383, 433, 1374, 306, 3246, 122678, 27, 47, 2198, 241, 523, 157, 657, 1, 79, 633779, 1353, 182, 306, 122678, 12727, 424, 720, 369, 633779, 614, 633779, 18, 1542, 633779, 296, 802, 739, 28, 633779, 305, 963, 985, 900, 633779, 4, 633779, 4, 633779, 900, 1700, 633779, 135, 633779, 24, 633779, 13, 633779, 42, 6696, 136]\n",
      "Float32"
     ]
    },
    {
     "name": "stdout",
     "output_type": "stream",
     "text": [
      "[1.0, 0.0]\n"
     ]
    }
   ],
   "source": [
    "encoded_input, encoded_output = encodesample(task, Training(), (input, target))\n",
    "\n",
    "println(encoded_input)\n",
    "println(encoded_output)"
   ]
  },
  {
   "cell_type": "markdown",
   "metadata": {},
   "source": [
    "Let us now look at each step of the above encoding process."
   ]
  },
  {
   "cell_type": "markdown",
   "metadata": {},
   "source": [
    "##### Sanitize\n",
    "\n",
    "The sanitized input data will have no stop words, no punctuations, and no case. Along with those, it'll also contain some fastai specific tokens like xxbos (beginning of the sentence), xxup (the next word if uppercase in the original text), xxmaj (the first letter is uppercase in the original text), etc."
   ]
  },
  {
   "cell_type": "code",
   "execution_count": 40,
   "metadata": {},
   "outputs": [
    {
     "data": {
      "text/plain": [
       "\"xxbos xxmaj story unnatural feelings pig xxmaj starts scene terrific example absurd comedy xxup formal orchestra audience insane violent mob crazy chantings singers xxmaj unfortunately stays absurd xxup time narrative eventually putting xxmaj era xxmaj cryptic dialogue xxmaj shakespeare easy third grader xxmaj technical level cinematography future xxmaj vilmos xxmaj zsigmond xxmaj future stars xxmaj sally xxmaj kirkland xxmaj frederic xxmaj forrest seen briefly \""
      ]
     },
     "metadata": {},
     "output_type": "display_data"
    }
   ],
   "source": [
    "encoding_1 = Textual.Sanitize()\n",
    "sanitized_data = FastAI.encode(encoding_1, Training(), Paragraph(), input)"
   ]
  },
  {
   "cell_type": "markdown",
   "metadata": {},
   "source": [
    "##### Tokenize\n",
    "\n",
    "Tokenize the sanitized input data."
   ]
  },
  {
   "cell_type": "code",
   "execution_count": 42,
   "metadata": {},
   "outputs": [
    {
     "data": {
      "text/plain": [
       "64-element Vector{String}:\n",
       " \"xxbos\"\n",
       " \"xxmaj\"\n",
       " \"story\"\n",
       " \"unnatural\"\n",
       " \"feelings\"\n",
       " \"pig\"\n",
       " \"xxmaj\"\n",
       " \"starts\"\n",
       " \"scene\"\n",
       " \"terrific\"\n",
       " ⋮\n",
       " \"sally\"\n",
       " \"xxmaj\"\n",
       " \"kirkland\"\n",
       " \"xxmaj\"\n",
       " \"frederic\"\n",
       " \"xxmaj\"\n",
       " \"forrest\"\n",
       " \"seen\"\n",
       " \"briefly\""
      ]
     },
     "metadata": {},
     "output_type": "display_data"
    }
   ],
   "source": [
    "encoding_2 = Textual.Tokenize()\n",
    "tokenized_data = FastAI.encode(encoding_2, Training(), Paragraph(), sanitized_data)"
   ]
  },
  {
   "cell_type": "markdown",
   "metadata": {},
   "source": [
    "##### EmbedVocabulary\n",
    "\n",
    "This step is the most important step in the encoding process. It constructs the vocabulary for the training data and returns the vector embedding for the input data."
   ]
  },
  {
   "cell_type": "code",
   "execution_count": 44,
   "metadata": {},
   "outputs": [
    {
     "data": {
      "text/plain": [
       "FastAI.Textual.EmbedVocabulary(OrderedCollections.OrderedDict(\"redeemiing\" => 1, \"poulange\" => 1, \"inattentive\" => 1, \"sleepwalking\" => 20, \"photosynthesis\" => 1, \"lunk\" => 1, \"henry\" => 407, \"whiz\" => 16, \"redresses\" => 1, \"gathered\" => 38…))"
      ]
     },
     "metadata": {},
     "output_type": "display_data"
    }
   ],
   "source": [
    "vocab = setup(Textual.EmbedVocabulary, data)\n",
    "encoding_3 = Textual.EmbedVocabulary(vocab = vocab.vocab)"
   ]
  },
  {
   "cell_type": "code",
   "execution_count": 49,
   "metadata": {},
   "outputs": [
    {
     "data": {
      "text/plain": [
       "64-element Vector{Int64}:\n",
       "  25000\n",
       " 633779\n",
       "  11990\n",
       "     46\n",
       "    395\n",
       "    102\n",
       " 633779\n",
       "   1220\n",
       "   5383\n",
       "    433\n",
       "      ⋮\n",
       "    135\n",
       " 633779\n",
       "     24\n",
       " 633779\n",
       "     13\n",
       " 633779\n",
       "     42\n",
       "   6696\n",
       "    136"
      ]
     },
     "metadata": {},
     "output_type": "display_data"
    }
   ],
   "source": [
    "vector_data = encode(encoding_3, Training(), Textual.Tokens(), tokenized_data)"
   ]
  }
 ],
 "metadata": {
  "kernelspec": {
   "display_name": "Julia 1.7.3",
   "language": "julia",
   "name": "julia-1.7"
  },
  "language_info": {
   "file_extension": ".jl",
   "mimetype": "application/julia",
   "name": "julia",
   "version": "1.7.3"
  },
  "orig_nbformat": 4
 },
 "nbformat": 4,
 "nbformat_minor": 2
}

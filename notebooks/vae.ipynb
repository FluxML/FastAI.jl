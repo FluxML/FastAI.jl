{
 "cells": [
  {
   "cell_type": "markdown",
   "metadata": {},
   "source": [
    "# Variational autoencoders"
   ]
  },
  {
   "cell_type": "markdown",
   "metadata": {},
   "source": [
    "So far, we've covered many examples of how to train models in a supervised fashion. However, there are many applications of neural networks outside the supervised regime. In this tutorial, we'll implement and train a variational autoencoder (VAE) to embed and generate images from the MNIST dataset.\n",
    "\n",
    "You'll learn how to\n",
    "\n",
    "- implement custom Flux.jl models\n",
    "- write a custom training loop\n",
    "- generate new images and visualize them"
   ]
  },
  {
   "cell_type": "code",
   "execution_count": 35,
   "metadata": {},
   "outputs": [],
   "source": [
    "using FastAI, StaticArrays, Colors\n",
    "using FastAI: FluxTraining, Image\n",
    "import CairoMakie  # run if in an interactive environment like a notebook"
   ]
  },
  {
   "cell_type": "markdown",
   "metadata": {},
   "source": [
    "## Setting up the data"
   ]
  },
  {
   "cell_type": "markdown",
   "metadata": {},
   "source": [
    "First we load the MNIST dataset. Since we're not using it for supervised learning, we only need the input images, and don't load the labels. We get a data container where every observation is an image:"
   ]
  },
  {
   "cell_type": "code",
   "execution_count": 13,
   "metadata": {},
   "outputs": [
    {
     "data": {
      "image/png": "[encoded data removed]",
      "text/plain": [
       "Figure()"
      ]
     },
     "execution_count": 13,
     "metadata": {},
     "output_type": "execute_result"
    }
   ],
   "source": [
    "path = datasetpath(\"mnist_tiny\")\n",
    "data = Datasets.loadfolderdata(\n",
    "    path,\n",
    "    filterfn = isimagefile,\n",
    "    loadfn = loadfile,\n",
    ")\n",
    "showblock(FastAI.Vision.Image{2}(), getobs(data, 1))"
   ]
  },
  {
   "cell_type": "markdown",
   "metadata": {},
   "source": [
    "Next we need to define a learning task that will handle data encoding and decoding as well as visualization for us. So far, we've used [`SupervisedTask`](#) a lot which assumes there is an input that is fed to the model and a corresponding target output. Since we want to do unsupervised learning, we'll instead create a custom learning task using [`BlockTask`](#). It defines what kind of data we'll have at each step in the data pipeline for example `x` is a model input and `ŷ` a model output. See [`AbstractBlockTask`](#) for more info."
   ]
  },
  {
   "cell_type": "code",
   "execution_count": 4,
   "metadata": {},
   "outputs": [
    {
     "data": {
      "text/plain": [
       "EmbeddingTask (generic function with 1 method)"
      ]
     },
     "execution_count": 4,
     "metadata": {},
     "output_type": "execute_result"
    }
   ],
   "source": [
    "using FastAI: encodedblockfilled, decodedblockfilled\n",
    "\n",
    "function EmbeddingTask(block, encodings)\n",
    "    sample = block\n",
    "    encodedsample = x = y = ŷ = encodedblockfilled(encodings, sample)\n",
    "    blocks = (; sample, x, y, ŷ, encodedsample)\n",
    "    BlockTask(blocks, encodings)\n",
    "end\n"
   ]
  },
  {
   "cell_type": "markdown",
   "metadata": {},
   "source": [
    "With this helper defined, we can create a learning task for our task: `Image{2}()` is the kind of data we want to learn with and `ImagePreprocessing` makes sure to encode and decode these images so they can be used to train a model."
   ]
  },
  {
   "cell_type": "code",
   "execution_count": 5,
   "metadata": {},
   "outputs": [
    {
     "data": {
      "text/plain": [
       "BlockTask(blocks=(:sample, :x, :y, :ŷ, :encodedsample))"
      ]
     },
     "execution_count": 5,
     "metadata": {},
     "output_type": "execute_result"
    }
   ],
   "source": [
    "task = EmbeddingTask(\n",
    "    Image{2}(),\n",
    "    (ImagePreprocessing(means = SVector(0.0), stds = SVector(1.0), C = Gray{Float32}),),\n",
    ")"
   ]
  },
  {
   "cell_type": "markdown",
   "metadata": {},
   "source": [
    "With the learning task set up, we can use `encode` to get samples ready to be input to a model, and all `show*` functions to visualize data at various points of the pipeline:"
   ]
  },
  {
   "cell_type": "code",
   "execution_count": 6,
   "metadata": {},
   "outputs": [
    {
     "data": {
      "image/png": "[encoded data removed]",
      "text/plain": [
       "Figure()"
      ]
     },
     "execution_count": 6,
     "metadata": {},
     "output_type": "execute_result"
    }
   ],
   "source": [
    "x = encodesample(task, Training(), getobs(data, 1))\n",
    "showencodedsample(task, x)"
   ]
  },
  {
   "cell_type": "markdown",
   "metadata": {},
   "source": [
    "For later training, the last thing we need to do with the data is to create a data iterator over batches of encoded samples. Since the dataset comfortably fits into memory, we preload it all at once by using `collect` on the `DataLoader`. This saves us having to reload each image again every epoch."
   ]
  },
  {
   "cell_type": "code",
   "execution_count": 24,
   "metadata": {},
   "outputs": [
    {
     "data": {
      "text/plain": [
       "1-element Vector{Any}:\n",
       " [0.0 0.0 … 0.0 0.0; 0.0 0.0 … 0.0 0.0; … ; 0.0 0.0 … 0.0 0.0; 0.0 0.0 … 0.0 0.0;;;; 0.0 0.0 … 0.0 0.0; 0.0 0.0 … 0.0 0.0; … ; 0.0 0.0 … 0.0 0.0; 0.0 0.0 … 0.0 0.0;;;; 0.0 0.0 … 0.0 0.0; 0.0 0.0 … 0.0 0.0; … ; 0.0 0.0 … 0.0 0.0; 0.0 0.0 … 0.0 0.0;;;; … ;;;; 0.0 0.0 … 0.0 0.0; 0.0 0.0 … 0.0 0.0; … ; 0.0 0.0 … 0.0 0.0; 0.0 0.0 … 0.0 0.0;;;; 0.0 0.0 … 0.0 0.0; 0.0 0.0 … 0.0 0.0; … ; 0.0 0.0 … 0.0 0.0; 0.0 0.0 … 0.0 0.0;;;; 0.0 0.0 … 0.0 0.0; 0.0 0.0 … 0.0 0.0; … ; 0.0 0.0 … 0.0 0.0; 0.0 0.0 … 0.0 0.0]"
      ]
     },
     "execution_count": 24,
     "metadata": {},
     "output_type": "execute_result"
    }
   ],
   "source": [
    "BATCHSIZE = nobs(data)\n",
    "dataloader = DataLoader(taskdataset(shuffleobs(data), task, Training()), BATCHSIZE)\n",
    "dataiter = collect(dataloader)"
   ]
  },
  {
   "cell_type": "markdown",
   "metadata": {},
   "source": [
    "With that, we have a data iterator of batches that we can use in a training loop just by iterating over it:"
   ]
  },
  {
   "cell_type": "code",
   "execution_count": 25,
   "metadata": {},
   "outputs": [
    {
     "name": "stdout",
     "output_type": "stream",
     "text": [
      "(28, 28, 1, 1428)"
     ]
    }
   ],
   "source": [
    "for xs in dataiter\n",
    "    print(size(xs))\n",
    "    break\n",
    "end"
   ]
  },
  {
   "cell_type": "markdown",
   "metadata": {},
   "source": [
    "Next, we need to construct a model and define a loss function so it can be optimized."
   ]
  },
  {
   "cell_type": "markdown",
   "metadata": {},
   "source": [
    "## Modelling"
   ]
  },
  {
   "cell_type": "markdown",
   "metadata": {},
   "source": [
    "The variational autoencoder consists of two parts: an encoder, and a decoder. The encoder takes in data and outputs parameters of a probability distribution. These are then used to sample latent vectors which are fed into the decoder to produce new samples. A loss function (ELBO) rewards the model if the outputs are similar to the inputs. The challenge is that the latent space is of much lower dimensionality than the data space, so the model needs to learn to compress the information contained in the data. If you're interested in more mathematical background on VAEs and the loss function, Lilian Weng has written a [great write-up on autoencoders](https://lilianweng.github.io/lil-log/2018/08/12/from-autoencoder-to-beta-vae.html#contractive-autoencoder). The architecture looks like this:"
   ]
  },
  {
   "cell_type": "markdown",
   "metadata": {},
   "source": [
    "![Diagram of VAE architecture](./assets/vae.png)"
   ]
  },
  {
   "cell_type": "markdown",
   "metadata": {},
   "source": [
    "We define the Variational Autoencoder model as a new type that wraps an encoder and decoder model and define the forward pass and loss function as regular Julia functions. "
   ]
  },
  {
   "cell_type": "code",
   "execution_count": 26,
   "metadata": {},
   "outputs": [
    {
     "data": {
      "text/plain": [
       "βELBO (generic function with 1 method)"
      ]
     },
     "execution_count": 26,
     "metadata": {},
     "output_type": "execute_result"
    }
   ],
   "source": [
    "struct VAE{E, D}\n",
    "    encoder::E\n",
    "    decoder::D\n",
    "end\n",
    "\n",
    "Flux.@functor VAE\n",
    "\n",
    "function (vae::VAE)(xs)\n",
    "    μ, logσ² = vae.encoder(xs)\n",
    "    zs = sample_latent(μ, logσ²)\n",
    "    x̄s = vae.decoder(zs)\n",
    "    return x̄s, (; μ, logσ²)\n",
    "end\n",
    "\n",
    "\n",
    "using Random: randn!\n",
    "using Statistics: mean\n",
    "\n",
    "sample_latent(μ::AbstractArray{T}, logσ²::AbstractArray{T}) where {T} =\n",
    "    μ .+ exp.(logσ² ./ 2) .* randn!(similar(logσ²))\n",
    "\n",
    "function βELBO(x, x̄, μ, logσ²; β = 1)\n",
    "    reconstruction_error = mean(sum(@.((x̄ - x)^2); dims = 1))\n",
    "    # D(N(μ, Σ)||N(0, I)) = 1/2 * (μᵀμ + tr(Σ) - length(μ) - log(|Σ|))\n",
    "    kl_divergence = mean(sum(@.((μ^2 + exp(logσ²) - 1 - logσ²) / 2); dims = 1))\n",
    "\n",
    "    return reconstruction_error + β * kl_divergence\n",
    "end"
   ]
  },
  {
   "cell_type": "markdown",
   "metadata": {},
   "source": [
    "Next we define the encoder and decoder models by composing basic Flux.jl layers. `Dlatent` is the size of the latent space and controls how much the model has to compress the information. Feel free to try out smaller or larger numbers and see how the quality of the generated images changes."
   ]
  },
  {
   "cell_type": "code",
   "execution_count": 36,
   "metadata": {},
   "outputs": [],
   "source": [
    "SIZE = (28, 28, 1)\n",
    "Din = prod(SIZE)\n",
    "Dhidden = 512\n",
    "Dlatent = 4\n",
    "\n",
    "encoder =\n",
    "    Chain(\n",
    "        flatten,\n",
    "        Dense(Din, Dhidden, relu), # backbone\n",
    "        Parallel(\n",
    "            tuple,\n",
    "            Dense(Dhidden, Dlatent), # μ\n",
    "            Dense(Dhidden, Dlatent), # logσ²\n",
    "        ),\n",
    "    ) |> gpu\n",
    "\n",
    "decoder = Chain(Dense(Dlatent, Dhidden, relu), Dense(Dhidden, Din, sigmoid), xs -> reshape(xs, SIZE..., :)) |> gpu\n",
    "\n",
    "model = VAE(encoder, decoder);"
   ]
  },
  {
   "cell_type": "markdown",
   "metadata": {},
   "source": [
    "## Custom training loop"
   ]
  },
  {
   "cell_type": "markdown",
   "metadata": {},
   "source": [
    "When dealing with a unconvential learning scheme, we usually need to write a custom training loop. FastAI.jl is build on top of FluxTraining.jl which allows you to write custom training loops with very little boilerplate while retaining compatibility with its extensive callback system. In fact, the built-in training loops for supervised learning are defined in just the same way as we will."
   ]
  },
  {
   "cell_type": "code",
   "execution_count": 37,
   "metadata": {},
   "outputs": [],
   "source": [
    "struct VAETrainingPhase <: FluxTraining.AbstractTrainingPhase end"
   ]
  },
  {
   "cell_type": "markdown",
   "metadata": {},
   "source": [
    "We just defined our own training phase. All that is required to take advantage of the FastAI.jl framework is to define the `FluxTraining.step!` function. We'll use a utility, `FluxTraining.runstep`, to reduce the boilerplate involved in handling callback events and state. `runstep`'s first argument is a function with inputs `(handle, state)`. `handle` can be used to dispatch events which callbacks can react to. `state` holds data generated on each call to `step!` like the batch, gradients, and loss. These are also accessible to callbacks, for example to calculate metrics. We also give `runstep` the initial step state which just contains our batch."
   ]
  },
  {
   "cell_type": "code",
   "execution_count": 46,
   "metadata": {},
   "outputs": [],
   "source": [
    "\n",
    "struct VAETrainingPhase <: FluxTraining.AbstractTrainingPhase end\n",
    "\n",
    "function FluxTraining.step!(learner, phase::VAETrainingPhase, batch)\n",
    "    FluxTraining.runstep(learner, phase, (xs = batch,)) do handle, state\n",
    "        gs = gradient(learner.params) do\n",
    "            μ, logσ² = learner.model.encoder(state.xs)\n",
    "            state.zs = sample_latent(μ, logσ²)\n",
    "            state.x̄s = learner.model.decoder(state.zs)\n",
    "\n",
    "            handle(FluxTraining.LossBegin())\n",
    "            state.loss = learner.lossfn(flatten(state.xs), flatten(state.x̄s), μ, logσ²)\n",
    "\n",
    "            handle(FluxTraining.BackwardBegin())\n",
    "            return state.loss\n",
    "        end\n",
    "        handle(FluxTraining.BackwardEnd())\n",
    "        Flux.Optimise.update!(learner.optimizer, learner.params, gs)\n",
    "    end\n",
    "end\n"
   ]
  },
  {
   "cell_type": "markdown",
   "metadata": {},
   "source": [
    "Since the step state is a little different from the supervised case (there are no targets `ys`), we also overwrite the default task for the `ToDevice` callback for our training phase:"
   ]
  },
  {
   "cell_type": "code",
   "execution_count": 48,
   "metadata": {},
   "outputs": [],
   "source": [
    "function FluxTraining.on(\n",
    "    ::FluxTraining.StepBegin,\n",
    "    ::VAETrainingPhase,\n",
    "    cb::ToDevice,\n",
    "    learner,\n",
    ")\n",
    "    learner.step.xs = cb.movedatafn(learner.step.xs)\n",
    "end"
   ]
  },
  {
   "cell_type": "markdown",
   "metadata": {},
   "source": [
    "## Training"
   ]
  },
  {
   "cell_type": "markdown",
   "metadata": {},
   "source": [
    "Now we can put the pieces together, creating a [`Learner`](#)."
   ]
  },
  {
   "cell_type": "code",
   "execution_count": 40,
   "metadata": {},
   "outputs": [],
   "source": [
    "learner = Learner(model, (), ADAM(), βELBO, ToGPU())\n",
    "FluxTraining.removecallback!(learner, ProgressPrinter);"
   ]
  },
  {
   "cell_type": "markdown",
   "metadata": {},
   "source": [
    "To override the default supervised training loops, we pass our custom training phase and the data iterator we want to run it on to [`fitonecycle!`](#):"
   ]
  },
  {
   "cell_type": "code",
   "execution_count": 49,
   "metadata": {},
   "outputs": [
    {
     "name": "stdout",
     "output_type": "stream",
     "text": [
      "┌──────────────────┬───────┬─────────┐\n",
      "│\u001b[1m            Phase \u001b[0m│\u001b[1m Epoch \u001b[0m│\u001b[1m    Loss \u001b[0m│\n",
      "├──────────────────┼───────┼─────────┤\n",
      "│ VAETrainingPhase │   1.0 │ 181.964 │\n",
      "└──────────────────┴───────┴─────────┘\n",
      "┌──────────────────┬───────┬─────────┐\n",
      "│\u001b[1m            Phase \u001b[0m│\u001b[1m Epoch \u001b[0m│\u001b[1m    Loss \u001b[0m│\n",
      "├──────────────────┼───────┼─────────┤\n",
      "│ VAETrainingPhase │   2.0 │ 178.809 │\n",
      "└──────────────────┴───────┴─────────┘\n",
      "┌──────────────────┬───────┬─────────┐\n",
      "│\u001b[1m            Phase \u001b[0m│\u001b[1m Epoch \u001b[0m│\u001b[1m    Loss \u001b[0m│\n",
      "├──────────────────┼───────┼─────────┤\n",
      "│ VAETrainingPhase │   3.0 │ 167.562 │\n",
      "└──────────────────┴───────┴─────────┘\n",
      "┌──────────────────┬───────┬─────────┐\n",
      "│\u001b[1m            Phase \u001b[0m│\u001b[1m Epoch \u001b[0m│\u001b[1m    Loss \u001b[0m│\n",
      "├──────────────────┼───────┼─────────┤\n",
      "│ VAETrainingPhase │   4.0 │ 155.867 │\n",
      "└──────────────────┴───────┴─────────┘\n",
      "┌──────────────────┬───────┬─────────┐\n",
      "│\u001b[1m            Phase \u001b[0m│\u001b[1m Epoch \u001b[0m│\u001b[1m    Loss \u001b[0m│\n",
      "├──────────────────┼───────┼─────────┤\n",
      "│ VAETrainingPhase │   5.0 │ 102.829 │\n",
      "└──────────────────┴───────┴─────────┘\n",
      "┌──────────────────┬───────┬─────────┐\n",
      "│\u001b[1m            Phase \u001b[0m│\u001b[1m Epoch \u001b[0m│\u001b[1m    Loss \u001b[0m│\n",
      "├──────────────────┼───────┼─────────┤\n",
      "│ VAETrainingPhase │   6.0 │ 88.4556 │\n",
      "└──────────────────┴───────┴─────────┘\n",
      "┌──────────────────┬───────┬─────────┐\n",
      "│\u001b[1m            Phase \u001b[0m│\u001b[1m Epoch \u001b[0m│\u001b[1m    Loss \u001b[0m│\n",
      "├──────────────────┼───────┼─────────┤\n",
      "│ VAETrainingPhase │   7.0 │ 75.3091 │\n",
      "└──────────────────┴───────┴─────────┘\n",
      "┌──────────────────┬───────┬─────────┐\n",
      "│\u001b[1m            Phase \u001b[0m│\u001b[1m Epoch \u001b[0m│\u001b[1m    Loss \u001b[0m│\n",
      "├──────────────────┼───────┼─────────┤\n",
      "│ VAETrainingPhase │   8.0 │ 62.4067 │\n",
      "└──────────────────┴───────┴─────────┘\n",
      "┌──────────────────┬───────┬─────────┐\n",
      "│\u001b[1m            Phase \u001b[0m│\u001b[1m Epoch \u001b[0m│\u001b[1m    Loss \u001b[0m│\n",
      "├──────────────────┼───────┼─────────┤\n",
      "│ VAETrainingPhase │   9.0 │ 57.2527 │\n",
      "└──────────────────┴───────┴─────────┘\n",
      "┌──────────────────┬───────┬─────────┐\n",
      "│\u001b[1m            Phase \u001b[0m│\u001b[1m Epoch \u001b[0m│\u001b[1m    Loss \u001b[0m│\n",
      "├──────────────────┼───────┼─────────┤\n",
      "│ VAETrainingPhase │  10.0 │ 58.5014 │\n",
      "└──────────────────┴───────┴─────────┘\n",
      "┌──────────────────┬───────┬─────────┐\n",
      "│\u001b[1m            Phase \u001b[0m│\u001b[1m Epoch \u001b[0m│\u001b[1m    Loss \u001b[0m│\n",
      "├──────────────────┼───────┼─────────┤\n",
      "│ VAETrainingPhase │  11.0 │ 53.1275 │\n",
      "└──────────────────┴───────┴─────────┘\n",
      "┌──────────────────┬───────┬─────────┐\n",
      "│\u001b[1m            Phase \u001b[0m│\u001b[1m Epoch \u001b[0m│\u001b[1m    Loss \u001b[0m│\n",
      "├──────────────────┼───────┼─────────┤\n",
      "│ VAETrainingPhase │  12.0 │ 50.8608 │\n",
      "└──────────────────┴───────┴─────────┘\n",
      "┌──────────────────┬───────┬─────────┐\n",
      "│\u001b[1m            Phase \u001b[0m│\u001b[1m Epoch \u001b[0m│\u001b[1m    Loss \u001b[0m│\n",
      "├──────────────────┼───────┼─────────┤\n",
      "│ VAETrainingPhase │  13.0 │ 50.1279 │\n",
      "└──────────────────┴───────┴─────────┘\n",
      "┌──────────────────┬───────┬─────────┐\n",
      "│\u001b[1m            Phase \u001b[0m│\u001b[1m Epoch \u001b[0m│\u001b[1m    Loss \u001b[0m│\n",
      "├──────────────────┼───────┼─────────┤\n",
      "│ VAETrainingPhase │  14.0 │ 48.7308 │\n",
      "└──────────────────┴───────┴─────────┘\n",
      "┌──────────────────┬───────┬─────────┐\n",
      "│\u001b[1m            Phase \u001b[0m│\u001b[1m Epoch \u001b[0m│\u001b[1m    Loss \u001b[0m│\n",
      "├──────────────────┼───────┼─────────┤\n",
      "│ VAETrainingPhase │  15.0 │ 47.3018 │\n",
      "└──────────────────┴───────┴─────────┘\n",
      "┌──────────────────┬───────┬─────────┐\n",
      "│\u001b[1m            Phase \u001b[0m│\u001b[1m Epoch \u001b[0m│\u001b[1m    Loss \u001b[0m│\n",
      "├──────────────────┼───────┼─────────┤\n",
      "│ VAETrainingPhase │  16.0 │ 46.7513 │\n",
      "└──────────────────┴───────┴─────────┘\n",
      "┌──────────────────┬───────┬─────────┐\n",
      "│\u001b[1m            Phase \u001b[0m│\u001b[1m Epoch \u001b[0m│\u001b[1m    Loss \u001b[0m│\n",
      "├──────────────────┼───────┼─────────┤\n",
      "│ VAETrainingPhase │  17.0 │ 46.2341 │\n",
      "└──────────────────┴───────┴─────────┘\n",
      "┌──────────────────┬───────┬───────┐\n",
      "│\u001b[1m            Phase \u001b[0m│\u001b[1m Epoch \u001b[0m│\u001b[1m  Loss \u001b[0m│\n",
      "├──────────────────┼───────┼───────┤\n",
      "│ VAETrainingPhase │  18.0 │ 45.92 │\n",
      "└──────────────────┴───────┴───────┘\n",
      "┌──────────────────┬───────┬─────────┐\n",
      "│\u001b[1m            Phase \u001b[0m│\u001b[1m Epoch \u001b[0m│\u001b[1m    Loss \u001b[0m│\n",
      "├──────────────────┼───────┼─────────┤\n",
      "│ VAETrainingPhase │  19.0 │ 45.5328 │\n",
      "└──────────────────┴───────┴─────────┘\n",
      "┌──────────────────┬───────┬─────────┐\n",
      "│\u001b[1m            Phase \u001b[0m│\u001b[1m Epoch \u001b[0m│\u001b[1m    Loss \u001b[0m│\n",
      "├──────────────────┼───────┼─────────┤\n",
      "│ VAETrainingPhase │  20.0 │ 45.2383 │\n",
      "└──────────────────┴───────┴─────────┘\n",
      "┌──────────────────┬───────┬─────────┐\n",
      "│\u001b[1m            Phase \u001b[0m│\u001b[1m Epoch \u001b[0m│\u001b[1m    Loss \u001b[0m│\n",
      "├──────────────────┼───────┼─────────┤\n",
      "│ VAETrainingPhase │  21.0 │ 44.8402 │\n",
      "└──────────────────┴───────┴─────────┘\n",
      "┌──────────────────┬───────┬─────────┐\n",
      "│\u001b[1m            Phase \u001b[0m│\u001b[1m Epoch \u001b[0m│\u001b[1m    Loss \u001b[0m│\n",
      "├──────────────────┼───────┼─────────┤\n",
      "│ VAETrainingPhase │  22.0 │ 44.5037 │\n",
      "└──────────────────┴───────┴─────────┘\n",
      "┌──────────────────┬───────┬─────────┐\n",
      "│\u001b[1m            Phase \u001b[0m│\u001b[1m Epoch \u001b[0m│\u001b[1m    Loss \u001b[0m│\n",
      "├──────────────────┼───────┼─────────┤\n",
      "│ VAETrainingPhase │  23.0 │ 44.2519 │\n",
      "└──────────────────┴───────┴─────────┘\n",
      "┌──────────────────┬───────┬─────────┐\n",
      "│\u001b[1m            Phase \u001b[0m│\u001b[1m Epoch \u001b[0m│\u001b[1m    Loss \u001b[0m│\n",
      "├──────────────────┼───────┼─────────┤\n",
      "│ VAETrainingPhase │  24.0 │ 43.9507 │\n",
      "└──────────────────┴───────┴─────────┘\n",
      "┌──────────────────┬───────┬─────────┐\n",
      "│\u001b[1m            Phase \u001b[0m│\u001b[1m Epoch \u001b[0m│\u001b[1m    Loss \u001b[0m│\n",
      "├──────────────────┼───────┼─────────┤\n",
      "│ VAETrainingPhase │  25.0 │ 43.9711 │\n",
      "└──────────────────┴───────┴─────────┘\n",
      "┌──────────────────┬───────┬────────┐\n",
      "│\u001b[1m            Phase \u001b[0m│\u001b[1m Epoch \u001b[0m│\u001b[1m   Loss \u001b[0m│\n",
      "├──────────────────┼───────┼────────┤\n",
      "│ VAETrainingPhase │  26.0 │ 43.592 │\n",
      "└──────────────────┴───────┴────────┘\n",
      "┌──────────────────┬───────┬────────┐\n",
      "│\u001b[1m            Phase \u001b[0m│\u001b[1m Epoch \u001b[0m│\u001b[1m   Loss \u001b[0m│\n",
      "├──────────────────┼───────┼────────┤\n",
      "│ VAETrainingPhase │  27.0 │ 43.496 │\n",
      "└──────────────────┴───────┴────────┘\n",
      "┌──────────────────┬───────┬─────────┐\n",
      "│\u001b[1m            Phase \u001b[0m│\u001b[1m Epoch \u001b[0m│\u001b[1m    Loss \u001b[0m│\n",
      "├──────────────────┼───────┼─────────┤\n",
      "│ VAETrainingPhase │  28.0 │ 43.5969 │\n",
      "└──────────────────┴───────┴─────────┘\n",
      "┌──────────────────┬───────┬─────────┐\n",
      "│\u001b[1m            Phase \u001b[0m│\u001b[1m Epoch \u001b[0m│\u001b[1m    Loss \u001b[0m│\n",
      "├──────────────────┼───────┼─────────┤\n",
      "│ VAETrainingPhase │  29.0 │ 43.5515 │\n",
      "└──────────────────┴───────┴─────────┘\n",
      "┌──────────────────┬───────┬─────────┐\n",
      "│\u001b[1m            Phase \u001b[0m│\u001b[1m Epoch \u001b[0m│\u001b[1m    Loss \u001b[0m│\n",
      "├──────────────────┼───────┼─────────┤\n",
      "│ VAETrainingPhase │  30.0 │ 43.5932 │\n",
      "└──────────────────┴───────┴─────────┘\n"
     ]
    }
   ],
   "source": [
    "fitonecycle!(\n",
    "    learner,\n",
    "    30,\n",
    "    0.01;\n",
    "    phases = (VAETrainingPhase() => dataiter,),\n",
    ")"
   ]
  },
  {
   "cell_type": "markdown",
   "metadata": {},
   "source": [
    "Finally, we can visualize how well inputs are reconstructed:"
   ]
  },
  {
   "cell_type": "code",
   "execution_count": 55,
   "metadata": {},
   "outputs": [
    {
     "data": {
      "image/png": "[encoded data removed]",
      "text/plain": [
       "Figure()"
      ]
     },
     "execution_count": 55,
     "metadata": {},
     "output_type": "execute_result"
    }
   ],
   "source": [
    "xs = makebatch(task, data, rand(1:nobs(data), 4)) |> gpu\n",
    "ypreds, _ = model(xs)\n",
    "showoutputbatch(task, cpu(xs), cpu(ypreds))"
   ]
  },
  {
   "cell_type": "markdown",
   "metadata": {},
   "source": [
    "---\n",
    "\n",
    "Next, why not play around a little bit:\n",
    "\n",
    "- What happens if you increase or decrease the size of the latent space, `Dlatent`?\n",
    "- How do the results change if you adjust the model size (`Dhidden`) or use a different model architecture like convolutional nets?"
   ]
  }
 ],
 "metadata": {
  "kernelspec": {
   "display_name": "Julia (12 threads) 1.7.0",
   "language": "julia",
   "name": "julia-(12-threads)-1.7"
  },
  "language_info": {
   "file_extension": ".jl",
   "mimetype": "application/julia",
   "name": "julia",
   "version": "1.7.0"
  }
 },
 "nbformat": 4,
 "nbformat_minor": 4
}

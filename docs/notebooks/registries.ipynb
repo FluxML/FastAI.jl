{
 "cells": [
  {
   "cell_type": "code",
   "execution_count": 69,
   "metadata": {},
   "outputs": [
    {
     "data": {
      "text/plain": [
       "_show (generic function with 1 method)"
      ]
     },
     "metadata": {},
     "output_type": "display_data"
    }
   ],
   "source": [
    "using FastAI, ImageShow\n",
    "_show(reg) = show(IOContext(stdout, :displaysize => (60, 80)), reg)"
   ]
  },
  {
   "cell_type": "markdown",
   "metadata": {},
   "source": [
    "# Feature registries in FastAI.jl"
   ]
  },
  {
   "cell_type": "markdown",
   "metadata": {},
   "source": [
    "## Datasets"
   ]
  },
  {
   "cell_type": "code",
   "execution_count": 70,
   "metadata": {},
   "outputs": [
    {
     "name": "stdout",
     "output_type": "stream",
     "text": [
      "\u001b[1mRegistry(Datasets, 67 entries)\u001b[0m\n",
      "\n",
      " \u001b[1m ID                                       \u001b[0m\u001b[1m Name                                   \u001b[0m\u001b[1m Size    \u001b[0m\u001b[1m Is downloaded \u001b[0m\u001b[1m Tags     \u001b[0m\u001b[1m Description                              \u001b[0m\u001b[1m Dataset loader     \u001b[0m\u001b[1m Package  \u001b[0m\n",
      " \u001b[90m :id                                      \u001b[0m\u001b[90m :name                                  \u001b[0m\u001b[90m :size   \u001b[0m\u001b[90m :downloaded   \u001b[0m\u001b[90m :tags    \u001b[0m\u001b[90m :description                             \u001b[0m\u001b[90m :loader            \u001b[0m\u001b[90m :package \u001b[0m\n",
      "\n",
      "  fastai/CUB_200_2011                     \u001b[0m  CUB_200_2011                          \u001b[0m  1GiB   \u001b[0m  \u001b[31m⨯            \u001b[0m  String[]\u001b[0m  missing                                   DataDepLoader(...)  FastAI  \u001b[0m\n",
      "                                                                                                                    \u001b[0m                                                                        \u001b[0m\n",
      "\n",
      "  fastai/bedroom                          \u001b[0m  bedroom                               \u001b[0m  4.25GiB\u001b[0m  \u001b[31m⨯            \u001b[0m  String[]\u001b[0m  missing                                   DataDepLoader(...)  FastAI  \u001b[0m\n",
      "                                                                                                                    \u001b[0m                                                                        \u001b[0m\n",
      "\n",
      "  fastai/caltech_101                      \u001b[0m  caltech_101                           \u001b[0m  126MiB \u001b[0m  \u001b[31m⨯            \u001b[0m  String[]\u001b[0m  missing                                   DataDepLoader(...)  FastAI  \u001b[0m\n",
      "                                                                                                                    \u001b[0m                                                                        \u001b[0m\n",
      "\n",
      "  fastai/cifar10                          \u001b[0m  cifar10                               \u001b[0m  \u001b[90mmissing\u001b[0m  \u001b[31m⨯            \u001b[0m  String[]\u001b[0m  missing                                   DataDepLoader(...)  FastAI  \u001b[0m\n",
      "                                                                                                                    \u001b[0m                                                                        \u001b[0m\n",
      "\n",
      "  fastai/cifar100                         \u001b[0m  cifar100                              \u001b[0m  \u001b[90mmissing\u001b[0m  \u001b[31m⨯            \u001b[0m  String[]\u001b[0m  missing                                   DataDepLoader(...)  FastAI  \u001b[0m\n",
      "                                                                                                                    \u001b[0m                                                                        \u001b[0m\n",
      "\n",
      "  fastai/food-101                         \u001b[0m  food-101                              \u001b[0m  5.3GB  \u001b[0m  \u001b[31m⨯            \u001b[0m  String[]\u001b[0m    101 food categories, with 101,000 ima…  DataDepLoader(...)  FastAI  \u001b[0m\n",
      "                                                                                                                    \u001b[0m                                                                        \u001b[0m\n",
      "\n",
      "  fastai/imagenette-160                   \u001b[0m  imagenette-160                        \u001b[0m  1.45GiB\u001b[0m  \u001b[31m⨯            \u001b[0m  String[]\u001b[0m    A subset of 10 easily classified clas…  DataDepLoader(...)  FastAI  \u001b[0m\n",
      "                                                                                                                    \u001b[0m                                                                        \u001b[0m\n",
      "\n",
      "  fastai/imagenette-320                   \u001b[0m  imagenette-320                        \u001b[0m  \u001b[90mmissing\u001b[0m  \u001b[31m⨯            \u001b[0m  String[]\u001b[0m    A subset of 10 easily classified clas…  DataDepLoader(...)  FastAI  \u001b[0m\n",
      "                                                                                                                    \u001b[0m                                                                        \u001b[0m\n",
      "\n",
      "  fastai/imagenette                       \u001b[0m  imagenette                            \u001b[0m  \u001b[90mmissing\u001b[0m  \u001b[31m⨯            \u001b[0m  String[]\u001b[0m    A subset of 10 easily classified clas…  DataDepLoader(...)  FastAI  \u001b[0m\n",
      "                                                                                                                    \u001b[0m                                                                        \u001b[0m\n",
      "\n",
      "  fastai/imagenette2-160                  \u001b[0m  imagenette2-160                       \u001b[0m  \u001b[90mmissing\u001b[0m  \u001b[32m✔            \u001b[0m  String[]\u001b[0m    A subset of 10 easily classified clas…  DataDepLoader(...)  FastAI  \u001b[0m\n",
      "                                                                                                                    \u001b[0m                                                                        \u001b[0m\n",
      "\n",
      "  fastai/imagenette2-320                  \u001b[0m  imagenette2-320                       \u001b[0m  \u001b[90mmissing\u001b[0m  \u001b[31m⨯            \u001b[0m  String[]\u001b[0m    A subset of 10 easily classified clas…  DataDepLoader(...)  FastAI  \u001b[0m\n",
      "                                                                                                                    \u001b[0m                                                                        \u001b[0m\n",
      "\n",
      "  fastai/imagenette2                      \u001b[0m  imagenette2                           \u001b[0m  \u001b[90mmissing\u001b[0m  \u001b[31m⨯            \u001b[0m  String[]\u001b[0m    A subset of 10 easily classified clas…  DataDepLoader(...)  FastAI  \u001b[0m\n",
      "                                                                                                                    \u001b[0m                                                                        \u001b[0m\n",
      "\n",
      "  fastai/imagewang-160                    \u001b[0m  imagewang-160                         \u001b[0m  182MiB \u001b[0m  \u001b[31m⨯            \u001b[0m  String[]\u001b[0m  missing                                   DataDepLoader(...)  FastAI  \u001b[0m\n",
      "                                                                                                                    \u001b[0m                                                                        \u001b[0m\n",
      "\n",
      "  fastai/imagewang-320                    \u001b[0m  imagewang-320                         \u001b[0m  639MiB \u001b[0m  \u001b[31m⨯            \u001b[0m  String[]\u001b[0m  missing                                   DataDepLoader(...)  FastAI  \u001b[0m\n",
      "                                                                                                                    \u001b[0m                                                                        \u001b[0m\n",
      "\n",
      "  fastai/imagewang                        \u001b[0m  imagewang                             \u001b[0m  \u001b[90mmissing\u001b[0m  \u001b[31m⨯            \u001b[0m  String[]\u001b[0m  missing                                   DataDepLoader(...)  FastAI  \u001b[0m\n",
      "                                                                                                                    \u001b[0m                                                                        \u001b[0m\n",
      "\n",
      "  fastai/imagewoof-160                    \u001b[0m  imagewoof-160                         \u001b[0m  \u001b[90mmissing\u001b[0m  \u001b[31m⨯            \u001b[0m  String[]\u001b[0m    A subset of 10 harder to classify cla…  DataDepLoader(...)  FastAI  \u001b[0m\n",
      "                                                                                                                    \u001b[0m                                                                        \u001b[0m\n",
      "\n",
      "  fastai/imagewoof-320                    \u001b[0m  imagewoof-320                         \u001b[0m  \u001b[90mmissing\u001b[0m  \u001b[31m⨯            \u001b[0m  String[]\u001b[0m    A subset of 10 harder to classify cla…  DataDepLoader(...)  FastAI  \u001b[0m\n",
      "                                                                                                                    \u001b[0m                                                                        \u001b[0m\n",
      "\n",
      "  fastai/imagewoof                        \u001b[0m  imagewoof                             \u001b[0m  \u001b[90mmissing\u001b[0m  \u001b[31m⨯            \u001b[0m  String[]\u001b[0m    A subset of 10 harder to classify cla…  DataDepLoader(...)  FastAI  \u001b[0m\n",
      "                                                                                                                    \u001b[0m                                                                        \u001b[0m\n",
      "\n",
      "  fastai/imagewoof2-160                   \u001b[0m  imagewoof2-160                        \u001b[0m  \u001b[90mmissing\u001b[0m  \u001b[32m✔            \u001b[0m  String[]\u001b[0m    A subset of 10 harder to classify cla…  DataDepLoader(...)  FastAI  \u001b[0m\n",
      "                                                                                                                    \u001b[0m                                                                        \u001b[0m\n",
      "\n",
      "  fastai/imagewoof2-320                   \u001b[0m  imagewoof2-320                        \u001b[0m  313MB  \u001b[0m  \u001b[31m⨯            \u001b[0m  String[]\u001b[0m    A subset of 10 harder to classify cla…  DataDepLoader(...)  FastAI  \u001b[0m\n",
      "                                                                                                                    \u001b[0m                                                                        \u001b[0m\n",
      "\n",
      "  fastai/imagewoof2                       \u001b[0m  imagewoof2                            \u001b[0m  1.25GiB\u001b[0m  \u001b[31m⨯            \u001b[0m  String[]\u001b[0m    A subset of 10 harder to classify cla…  DataDepLoader(...)  FastAI  \u001b[0m\n",
      "                                                                                                                    \u001b[0m                                                                        \u001b[0m\n",
      "\n",
      "  fastai/mnist_png                        \u001b[0m  mnist_png                             \u001b[0m  \u001b[90mmissing\u001b[0m  \u001b[31m⨯            \u001b[0m  String[]\u001b[0m  missing                                   DataDepLoader(...)  FastAI  \u001b[0m\n",
      "                                                                                                                    \u001b[0m                                                                        \u001b[0m\n",
      "\n",
      "  fastai/mnist_var_size_tiny              \u001b[0m  mnist_var_size_tiny                   \u001b[0m  \u001b[90mmissing\u001b[0m  \u001b[32m✔            \u001b[0m  String[]\u001b[0m  missing                                   DataDepLoader(...)  FastAI  \u001b[0m\n",
      "                                                                                                                    \u001b[0m                                                                        \u001b[0m\n",
      "\n",
      "  fastai/oxford-102-flowers               \u001b[0m  oxford-102-flowers                    \u001b[0m  \u001b[90mmissing\u001b[0m  \u001b[31m⨯            \u001b[0m  String[]\u001b[0m  missing                                   DataDepLoader(...)  FastAI  \u001b[0m\n",
      "                                                                                                                    \u001b[0m                                                                        \u001b[0m\n",
      "\n",
      "  fastai/oxford-iiit-pet                  \u001b[0m  oxford-iiit-pet                       \u001b[0m  \u001b[90mmissing\u001b[0m  \u001b[31m⨯            \u001b[0m  String[]\u001b[0m  missing                                   DataDepLoader(...)  FastAI  \u001b[0m\n",
      "                                                                                                                    \u001b[0m                                                                        \u001b[0m\n",
      "\n",
      "  fastai/stanford-cars                    \u001b[0m  stanford-cars                         \u001b[0m  \u001b[90mmissing\u001b[0m  \u001b[31m⨯            \u001b[0m  String[]\u001b[0m  missing                                   DataDepLoader(...)  FastAI  \u001b[0m\n",
      "                                                                                                                    \u001b[0m                                                                        \u001b[0m\n",
      "\n",
      "  fastai/ag_news_csv                      \u001b[0m  ag_news_csv                           \u001b[0m  11MB   \u001b[0m  \u001b[31m⨯            \u001b[0m  String[]\u001b[0m  missing                                   DataDepLoader(...)  FastAI  \u001b[0m\n",
      "                                                                                                                    \u001b[0m                                                                        \u001b[0m\n",
      "\n",
      "  fastai/amazon_review_full_csv           \u001b[0m  amazon_review_full_csv                \u001b[0m  600MB  \u001b[0m  \u001b[31m⨯            \u001b[0m  String[]\u001b[0m  missing                                   DataDepLoader(...)  FastAI  \u001b[0m\n",
      "                                                                                                                    \u001b[0m                                                                        \u001b[0m\n",
      "\n",
      "  fastai/amazon_review_polarity_csv       \u001b[0m  amazon_review_polarity_csv            \u001b[0m  600MB  \u001b[0m  \u001b[31m⨯            \u001b[0m  String[]\u001b[0m  missing                                   DataDepLoader(...)  FastAI  \u001b[0m\n",
      "                                                                                                                    \u001b[0m                                                                        \u001b[0m\n",
      "\n",
      "  fastai/dbpedia_csv                      \u001b[0m  dbpedia_csv                           \u001b[0m  65MB   \u001b[0m  \u001b[31m⨯            \u001b[0m  String[]\u001b[0m  missing                                   DataDepLoader(...)  FastAI  \u001b[0m\n",
      "                                                                                                                    \u001b[0m                                                                        \u001b[0m\n",
      "\n",
      "  fastai/giga-fren                        \u001b[0m  giga-fren                             \u001b[0m  2.4GB  \u001b[0m  \u001b[31m⨯            \u001b[0m  String[]\u001b[0m  missing                                   DataDepLoader(...)  FastAI  \u001b[0m\n",
      "                                                                                                                    \u001b[0m                                                                        \u001b[0m\n",
      "\n",
      "  fastai/imdb                             \u001b[0m  imdb                                  \u001b[0m  140MB  \u001b[0m  \u001b[31m⨯            \u001b[0m  String[]\u001b[0m  missing                                   DataDepLoader(...)  FastAI  \u001b[0m\n",
      "                                                                                                                    \u001b[0m                                                                        \u001b[0m\n",
      "\n",
      "  fastai/sogou_news_csv                   \u001b[0m  sogou_news_csv                        \u001b[0m  360MB  \u001b[0m  \u001b[31m⨯            \u001b[0m  String[]\u001b[0m  missing                                   DataDepLoader(...)  FastAI  \u001b[0m\n",
      "                                                                                                                    \u001b[0m                                                                        \u001b[0m\n",
      "\n",
      "  fastai/wikitext-103                     \u001b[0m  wikitext-103                          \u001b[0m  181MB  \u001b[0m  \u001b[31m⨯            \u001b[0m  String[]\u001b[0m  missing                                   DataDepLoader(...)  FastAI  \u001b[0m\n",
      "                                                                                                                    \u001b[0m                                                                        \u001b[0m\n",
      "\n",
      "  fastai/wikitext-2                       \u001b[0m  wikitext-2                            \u001b[0m  4MB    \u001b[0m  \u001b[31m⨯            \u001b[0m  String[]\u001b[0m  missing                                   DataDepLoader(...)  FastAI  \u001b[0m\n",
      "                                                                                                                    \u001b[0m                                                                        \u001b[0m\n",
      "\n",
      "  fastai/yahoo_answers_csv                \u001b[0m  yahoo_answers_csv                     \u001b[0m  305MB  \u001b[0m  \u001b[31m⨯            \u001b[0m  String[]\u001b[0m  missing                                   DataDepLoader(...)  FastAI  \u001b[0m\n",
      "                                                                                                                    \u001b[0m                                                                        \u001b[0m\n",
      "\n",
      "  fastai/yelp_review_full_csv             \u001b[0m  yelp_review_full_csv                  \u001b[0m  187MB  \u001b[0m  \u001b[31m⨯            \u001b[0m  String[]\u001b[0m  missing                                   DataDepLoader(...)  FastAI  \u001b[0m\n",
      "                                                                                                                    \u001b[0m                                                                        \u001b[0m\n",
      "\n",
      "  fastai/yelp_review_polarity_csv         \u001b[0m  yelp_review_polarity_csv              \u001b[0m  158MB  \u001b[0m  \u001b[31m⨯            \u001b[0m  String[]\u001b[0m  missing                                   DataDepLoader(...)  FastAI  \u001b[0m\n",
      "                                                                                                                    \u001b[0m                                                                        \u001b[0m\n",
      "\n",
      "  fastai/biwi_head_pose                   \u001b[0m  biwi_head_pose                        \u001b[0m  430MiB \u001b[0m  \u001b[31m⨯            \u001b[0m  String[]\u001b[0m  missing                                   DataDepLoader(...)  FastAI  \u001b[0m\n",
      "                                                                                                                    \u001b[0m                                                                        \u001b[0m\n",
      "\n",
      "  fastai/camvid                           \u001b[0m  camvid                                \u001b[0m  571MB  \u001b[0m  \u001b[31m⨯            \u001b[0m  String[]\u001b[0m  missing                                   DataDepLoader(...)  FastAI  \u001b[0m\n",
      "                                                                                                                    \u001b[0m                                                                        \u001b[0m\n",
      "\n",
      "  fastai/pascal-voc                       \u001b[0m  pascal-voc                            \u001b[0m  4.3GB  \u001b[0m  \u001b[31m⨯            \u001b[0m  String[]\u001b[0m  missing                                   DataDepLoader(...)  FastAI  \u001b[0m\n",
      "                                                                                                                    \u001b[0m                                                                        \u001b[0m\n",
      "\n",
      "  fastai/pascal_2007                      \u001b[0m  pascal_2007                           \u001b[0m  \u001b[90mmissing\u001b[0m  \u001b[31m⨯            \u001b[0m  String[]\u001b[0m  missing                                   DataDepLoader(...)  FastAI  \u001b[0m\n",
      "                                                                                                                    \u001b[0m                                                                        \u001b[0m\n",
      "\n",
      "  fastai/pascal_2012                      \u001b[0m  pascal_2012                           \u001b[0m  \u001b[90mmissing\u001b[0m  \u001b[31m⨯            \u001b[0m  String[]\u001b[0m  missing                                   DataDepLoader(...)  FastAI  \u001b[0m\n",
      "                                                                                                                    \u001b[0m                                                                        \u001b[0m\n",
      "\n",
      "  fastai/siim_small                       \u001b[0m  siim_small                            \u001b[0m  \u001b[90mmissing\u001b[0m  \u001b[31m⨯            \u001b[0m  String[]\u001b[0m  missing                                   DataDepLoader(...)  FastAI  \u001b[0m\n",
      "                                                                                                                    \u001b[0m                                                                        \u001b[0m\n",
      "\n",
      "  fastai/skin-lesion                      \u001b[0m  skin-lesion                           \u001b[0m  \u001b[90mmissing\u001b[0m  \u001b[31m⨯            \u001b[0m  String[]\u001b[0m  missing                                   DataDepLoader(...)  FastAI  \u001b[0m\n",
      "                                                                                                                    \u001b[0m                                                                        \u001b[0m\n",
      "\n",
      "  fastai/tcga-small                       \u001b[0m  tcga-small                            \u001b[0m  \u001b[90mmissing\u001b[0m  \u001b[31m⨯            \u001b[0m  String[]\u001b[0m  missing                                   DataDepLoader(...)  FastAI  \u001b[0m\n",
      "                                                                                                                    \u001b[0m                                                                        \u001b[0m\n",
      "\n",
      "  fastai/adult_sample                     \u001b[0m  adult_sample                          \u001b[0m  3.8MB  \u001b[0m  \u001b[32m✔            \u001b[0m  String[]\u001b[0m  missing                                   DataDepLoader(...)  FastAI  \u001b[0m\n",
      "                                                                                                                    \u001b[0m                                                                        \u001b[0m\n",
      "\n",
      "  fastai/biwi_sample                      \u001b[0m  biwi_sample                           \u001b[0m  \u001b[90mmissing\u001b[0m  \u001b[31m⨯            \u001b[0m  String[]\u001b[0m  missing                                   DataDepLoader(...)  FastAI  \u001b[0m\n",
      "                                                                                                                    \u001b[0m                                                                        \u001b[0m\n",
      "\n",
      "  fastai/camvid_tiny                      \u001b[0m  camvid_tiny                           \u001b[0m  \u001b[90mmissing\u001b[0m  \u001b[32m✔            \u001b[0m  String[]\u001b[0m  missing                                   DataDepLoader(...)  FastAI  \u001b[0m\n",
      "                                                                                                                    \u001b[0m                                                                        \u001b[0m\n",
      "\n",
      "  fastai/dogscats                         \u001b[0m  dogscats                              \u001b[0m  800MiB \u001b[0m  \u001b[32m✔            \u001b[0m  String[]\u001b[0m  missing                                   DataDepLoader(...)  FastAI  \u001b[0m\n",
      "                                                                                                                    \u001b[0m                                                                        \u001b[0m\n",
      "\n",
      "  fastai/human_numbers                    \u001b[0m  human_numbers                         \u001b[0m  \u001b[90mmissing\u001b[0m  \u001b[31m⨯            \u001b[0m  String[]\u001b[0m  missing                                   DataDepLoader(...)  FastAI  \u001b[0m\n",
      "                                                                                                                    \u001b[0m                                                                        \u001b[0m\n",
      "\n",
      "  fastai/imdb_sample                      \u001b[0m  imdb_sample                           \u001b[0m  4KB    \u001b[0m  \u001b[31m⨯            \u001b[0m  String[]\u001b[0m  missing                                   DataDepLoader(...)  FastAI  \u001b[0m\n",
      "                                                                                                                    \u001b[0m                                                                        \u001b[0m\n",
      "\n",
      "  fastai/mnist_sample                     \u001b[0m  mnist_sample                          \u001b[0m  3MB    \u001b[0m  \u001b[31m⨯            \u001b[0m  String[]\u001b[0m  missing                                   DataDepLoader(...)  FastAI  \u001b[0m\n",
      "                                                                                                                    \u001b[0m                                                                        \u001b[0m\n",
      "\n",
      "  fastai/mnist_tiny                       \u001b[0m  mnist_tiny                            \u001b[0m  300KB  \u001b[0m  \u001b[31m⨯            \u001b[0m  String[]\u001b[0m  missing                                   DataDepLoader(...)  FastAI  \u001b[0m\n",
      "                                                                                                                    \u001b[0m                                                                        \u001b[0m\n",
      "\n",
      "  fastai/movie_lens_sample                \u001b[0m  movie_lens_sample                     \u001b[0m  \u001b[90mmissing\u001b[0m  \u001b[31m⨯            \u001b[0m  String[]\u001b[0m  missing                                   DataDepLoader(...)  FastAI  \u001b[0m\n",
      "                                                                                                                    \u001b[0m                                                                        \u001b[0m\n",
      "\n",
      "  fastai/planet_sample                    \u001b[0m  planet_sample                         \u001b[0m  14.8MB \u001b[0m  \u001b[31m⨯            \u001b[0m  String[]\u001b[0m  missing                                   DataDepLoader(...)  FastAI  \u001b[0m\n",
      "                                                                                                                    \u001b[0m                                                                        \u001b[0m\n",
      "\n",
      "  fastai/planet_tiny                      \u001b[0m  planet_tiny                           \u001b[0m  1MB    \u001b[0m  \u001b[31m⨯            \u001b[0m  String[]\u001b[0m  missing                                   DataDepLoader(...)  FastAI  \u001b[0m\n",
      "                                                                                                                    \u001b[0m                                                                        \u001b[0m\n",
      "\n",
      "  fastai/coco_sample                      \u001b[0m  coco_sample                           \u001b[0m  3GB    \u001b[0m  \u001b[31m⨯            \u001b[0m  String[]\u001b[0m  missing                                   DataDepLoader(...)  FastAI  \u001b[0m\n",
      "                                                                                                                    \u001b[0m                                                                        \u001b[0m\n",
      "\n",
      "  fastai/coco-train2017                   \u001b[0m  coco-train2017                        \u001b[0m  \u001b[90mmissing\u001b[0m  \u001b[31m⨯            \u001b[0m  String[]\u001b[0m  missing                                   DataDepLoader(...)  FastAI  \u001b[0m\n",
      "                                                                                                                    \u001b[0m                                                                        \u001b[0m\n",
      "\n",
      "  fastai/coco-val2017                     \u001b[0m  coco-val2017                          \u001b[0m  \u001b[90mmissing\u001b[0m  \u001b[31m⨯            \u001b[0m  String[]\u001b[0m  missing                                   DataDepLoader(...)  FastAI  \u001b[0m\n",
      "                                                                                                                    \u001b[0m                                                                        \u001b[0m\n",
      "\n",
      "  fastai/coco-test2017                    \u001b[0m  coco-test2017                         \u001b[0m  \u001b[90mmissing\u001b[0m  \u001b[31m⨯            \u001b[0m  String[]\u001b[0m  missing                                   DataDepLoader(...)  FastAI  \u001b[0m\n",
      "                                                                                                                    \u001b[0m                                                                        \u001b[0m\n",
      "\n",
      "  fastai/coco-unlabeled2017               \u001b[0m  coco-unlabeled2017                    \u001b[0m  \u001b[90mmissing\u001b[0m  \u001b[31m⨯            \u001b[0m  String[]\u001b[0m  missing                                   DataDepLoader(...)  FastAI  \u001b[0m\n",
      "                                                                                                                    \u001b[0m                                                                        \u001b[0m\n",
      "\n",
      "  fastai/coco-image_info_test2017         \u001b[0m  coco-image_info_test2017              \u001b[0m  \u001b[90mmissing\u001b[0m  \u001b[31m⨯            \u001b[0m  String[]\u001b[0m  missing                                   DataDepLoader(...)  FastAI  \u001b[0m\n",
      "                                                                                                                    \u001b[0m                                                                        \u001b[0m\n",
      "\n",
      "  fastai/coco-image_info_unlabeled2017    \u001b[0m  coco-image_info_unlabeled2017         \u001b[0m  \u001b[90mmissing\u001b[0m  \u001b[31m⨯            \u001b[0m  String[]\u001b[0m  missing                                   DataDepLoader(...)  FastAI  \u001b[0m\n",
      "                                                                                                                    \u001b[0m                                                                        \u001b[0m\n",
      "\n",
      "  fastai/coco-annotations_trainval2017    \u001b[0m  coco-annotations_trainval2017         \u001b[0m  \u001b[90mmissing\u001b[0m  \u001b[31m⨯            \u001b[0m  String[]\u001b[0m  missing                                   DataDepLoader(...)  FastAI  \u001b[0m\n",
      "                                                                                                                    \u001b[0m                                                                        \u001b[0m\n",
      "\n",
      "  fastai/coco-stuff_annotations_trainval2\u001b[0m…  coco-stuff_annotations_trainval2017   \u001b[0m  \u001b[90mmissing\u001b[0m  \u001b[31m⨯            \u001b[0m  String[]\u001b[0m  missing                                   DataDepLoader(...)  FastAI  \u001b[0m\n",
      "                                                                                                                    \u001b[0m                                                                        \u001b[0m\n",
      "\n",
      "  fastai/coco-panoptic_annotations_trainv\u001b[0m…  coco-panoptic_annotations_trainval2017\u001b[0m  \u001b[90mmissing\u001b[0m  \u001b[31m⨯            \u001b[0m  String[]\u001b[0m  missing                                   DataDepLoader(...)  FastAI  \u001b[0m\n",
      "                                                                                                                    \u001b[0m                                                                        \u001b[0m\n",
      "\n"
     ]
    }
   ],
   "source": [
    "datasets() |> _show"
   ]
  },
  {
   "cell_type": "markdown",
   "metadata": {},
   "source": [
    "We can get more information on a specific dataset:"
   ]
  },
  {
   "cell_type": "code",
   "execution_count": 71,
   "metadata": {},
   "outputs": [
    {
     "name": "stdout",
     "output_type": "stream",
     "text": [
      "RegistryEntry(\n",
      "\u001b[1m             \u001b[0m\u001b[1m   \u001b[0m\u001b[1m                                       \u001b[0m\u001b[1m                                 \u001b[0m\n",
      "          id  =  fastai/imagewoof2-160                \u001b[0m  \u001b[90m(String)                       \u001b[0m\n",
      "                                                      \u001b[0m\n",
      "        name  =  imagewoof2-160                       \u001b[0m  \u001b[90m(String)                       \u001b[0m\n",
      "                                                      \u001b[0m\n",
      "        size  =  \u001b[90mmissing                              \u001b[0m  \u001b[90m(String)                       \u001b[0m\n",
      "                                                      \u001b[0m\n",
      "  downloaded  =  \u001b[32m✔                                    \u001b[0m  \u001b[90m(Bool)                         \u001b[0m\n",
      "                                                      \u001b[0m\n",
      "        tags  =  String[]                             \u001b[0m  \u001b[90m(Vector{String})               \u001b[0m\n",
      "                                                      \u001b[0m\n",
      "                                                      \u001b[0m\n",
      " description  =    A subset of 10 harder to classify  \u001b[0m  \u001b[90m(String)                       \u001b[0m\n",
      "                   classes from Imagenet (all dog     \u001b[0m\n",
      "                   breeds): Australian terrier, Border\u001b[0m\n",
      "                   terrier, Samoyed, beagle, Shih-Tzu,\u001b[0m\n",
      "                   English foxhound, Rhodesian        \u001b[0m\n",
      "                   ridgeback, dingo, golden retriever,\u001b[0m\n",
      "                   Old English sheepdog               \u001b[0m\n",
      "                                                      \u001b[0m\n",
      "      loader  =  DataDepLoader(...)                   \u001b[0m  \u001b[90m(FastAI.Datasets.DatasetLoader)\u001b[0m\n",
      "     package  =  FastAI                               \u001b[0m  \u001b[90m(Module)                       \u001b[0m\n",
      "                                                      \u001b[0m\n",
      "                                                      \u001b[0m\n",
      "\n",
      ")"
     ]
    }
   ],
   "source": [
    "datasets()[\"fastai/imagewoof2-160\"] |> _show"
   ]
  },
  {
   "cell_type": "markdown",
   "metadata": {},
   "source": [
    "And load it, triggering a lazy download:"
   ]
  },
  {
   "cell_type": "code",
   "execution_count": 72,
   "metadata": {},
   "outputs": [
    {
     "data": {
      "text/plain": [
       "\"/Users/lorenz/.julia/datadeps/fastai-imagewoof2-160\""
      ]
     },
     "metadata": {},
     "output_type": "display_data"
    }
   ],
   "source": [
    "load(datasets()[\"fastai/imagewoof2-160\"])"
   ]
  },
  {
   "cell_type": "markdown",
   "metadata": {},
   "source": [
    "## Dataset recipes"
   ]
  },
  {
   "cell_type": "markdown",
   "metadata": {},
   "source": [
    "Of course, to load datasets into a format that we can work with, FastAI.jl has so-called \"dataset recipes\"."
   ]
  },
  {
   "cell_type": "code",
   "execution_count": 73,
   "metadata": {},
   "outputs": [
    {
     "name": "stdout",
     "output_type": "stream",
     "text": [
      "\u001b[1mRegistry(Dataset recipes, 29 entries)\u001b[0m\n",
      "\n",
      " \u001b[1m ID                         \u001b[0m\u001b[1m Dataset ID                 \u001b[0m\u001b[1m Block types            \u001b[0m\u001b[1m Description  \u001b[0m\u001b[1m Is downloaded \u001b[0m\u001b[1m Package        \u001b[0m\u001b[1m Recipe                        \u001b[0m\n",
      " \u001b[90m :id                        \u001b[0m\u001b[90m :datasetid                 \u001b[0m\u001b[90m :blocks                \u001b[0m\u001b[90m :description \u001b[0m\u001b[90m :downloaded   \u001b[0m\u001b[90m :package       \u001b[0m\u001b[90m :recipe                       \u001b[0m\n",
      "\n",
      "  vision/CUB_200_2011       \u001b[0m  fastai/CUB_200_2011       \u001b[0m  (Image{2}, Label)       missing       \u001b[31m⨯            \u001b[0m  FastAI.Vision \u001b[0m  ImageFolders(...)\n",
      "                                                                                                                             \u001b[0m\n",
      "\n",
      "  vision/imagenette         \u001b[0m  fastai/imagenette         \u001b[0m  (Image{2}, Label)       missing       \u001b[31m⨯            \u001b[0m  FastAI.Vision \u001b[0m  ImageFolders(...)\n",
      "                                                                                                                             \u001b[0m\n",
      "\n",
      "  vision/imagenette2        \u001b[0m  fastai/imagenette2        \u001b[0m  (Image{2}, Label)       missing       \u001b[31m⨯            \u001b[0m  FastAI.Vision \u001b[0m  ImageFolders(...)\n",
      "                                                                                                                             \u001b[0m\n",
      "\n",
      "  vision/imagewang-320      \u001b[0m  fastai/imagewang-320      \u001b[0m  (Image{2}, Label)       missing       \u001b[31m⨯            \u001b[0m  FastAI.Vision \u001b[0m  ImageFolders(...)\n",
      "                                                                                                                             \u001b[0m\n",
      "\n",
      "  vision/mnist_sample       \u001b[0m  fastai/mnist_sample       \u001b[0m  (Image{2}, Label)       missing       \u001b[31m⨯            \u001b[0m  FastAI.Vision \u001b[0m  ImageFolders(...)\n",
      "                                                                                                                             \u001b[0m\n",
      "\n",
      "  vision/pascal_2007        \u001b[0m  fastai/pascal_2007        \u001b[0m  (Image{2}, LabelMulti)  missing       \u001b[31m⨯            \u001b[0m  FastAI.Vision \u001b[0m  ImageTableMultiLabel(...)\n",
      "                                                                                                                             \u001b[0m\n",
      "\n",
      "  vision/camvid             \u001b[0m  fastai/camvid             \u001b[0m  (Image{2}, Mask{2})     missing       \u001b[31m⨯            \u001b[0m  FastAI.Vision \u001b[0m  ImageSegmentationFolders(...)\n",
      "                                                                                                                             \u001b[0m\n",
      "\n",
      "  vision/camvid_tiny        \u001b[0m  fastai/camvid_tiny        \u001b[0m  (Image{2}, Mask{2})     missing       \u001b[32m✔            \u001b[0m  FastAI.Vision \u001b[0m  ImageSegmentationFolders(...)\n",
      "                                                                                                                             \u001b[0m\n",
      "\n",
      "  vision/imagenette-160     \u001b[0m  fastai/imagenette-160     \u001b[0m  (Image{2}, Label)       missing       \u001b[31m⨯            \u001b[0m  FastAI.Vision \u001b[0m  ImageFolders(...)\n",
      "                                                                                                                             \u001b[0m\n",
      "\n",
      "  vision/imagenette-320     \u001b[0m  fastai/imagenette-320     \u001b[0m  (Image{2}, Label)       missing       \u001b[31m⨯            \u001b[0m  FastAI.Vision \u001b[0m  ImageFolders(...)\n",
      "                                                                                                                             \u001b[0m\n",
      "\n",
      "  vision/imagewoof2-160     \u001b[0m  fastai/imagewoof2-160     \u001b[0m  (Image{2}, Label)       missing       \u001b[32m✔            \u001b[0m  FastAI.Vision \u001b[0m  ImageFolders(...)\n",
      "                                                                                                                             \u001b[0m\n",
      "\n",
      "  vision/cifar100           \u001b[0m  fastai/cifar100           \u001b[0m  (Image{2}, Label)       missing       \u001b[31m⨯            \u001b[0m  FastAI.Vision \u001b[0m  ImageFolders(...)\n",
      "                                                                                                                             \u001b[0m\n",
      "\n",
      "  vision/imagewang-160      \u001b[0m  fastai/imagewang-160      \u001b[0m  (Image{2}, Label)       missing       \u001b[31m⨯            \u001b[0m  FastAI.Vision \u001b[0m  ImageFolders(...)\n",
      "                                                                                                                             \u001b[0m\n",
      "\n",
      "  vision/mnist_var_size_tiny\u001b[0m  fastai/mnist_var_size_tiny\u001b[0m  (Image{2}, Label)       missing       \u001b[32m✔            \u001b[0m  FastAI.Vision \u001b[0m  ImageFolders(...)\n",
      "                                                                                                                             \u001b[0m\n",
      "\n",
      "  vision/cifar10            \u001b[0m  fastai/cifar10            \u001b[0m  (Image{2}, Label)       missing       \u001b[31m⨯            \u001b[0m  FastAI.Vision \u001b[0m  ImageFolders(...)\n",
      "                                                                                                                             \u001b[0m\n",
      "\n",
      "  vision/mnist_png          \u001b[0m  fastai/mnist_png          \u001b[0m  (Image{2}, Label)       missing       \u001b[31m⨯            \u001b[0m  FastAI.Vision \u001b[0m  ImageFolders(...)\n",
      "                                                                                                                             \u001b[0m\n",
      "\n",
      "  vision/caltech_101        \u001b[0m  fastai/caltech_101        \u001b[0m  (Image{2}, Label)       missing       \u001b[31m⨯            \u001b[0m  FastAI.Vision \u001b[0m  ImageFolders(...)\n",
      "                                                                                                                             \u001b[0m\n",
      "\n",
      "  vision/food-101           \u001b[0m  fastai/food-101           \u001b[0m  (Image{2}, Label)       missing       \u001b[31m⨯            \u001b[0m  FastAI.Vision \u001b[0m  ImageFolders(...)\n",
      "                                                                                                                             \u001b[0m\n",
      "\n",
      "  vision/imagenette2-320    \u001b[0m  fastai/imagenette2-320    \u001b[0m  (Image{2}, Label)       missing       \u001b[31m⨯            \u001b[0m  FastAI.Vision \u001b[0m  ImageFolders(...)\n",
      "                                                                                                                             \u001b[0m\n",
      "\n",
      "  vision/imagewoof2         \u001b[0m  fastai/imagewoof2         \u001b[0m  (Image{2}, Label)       missing       \u001b[31m⨯            \u001b[0m  FastAI.Vision \u001b[0m  ImageFolders(...)\n",
      "                                                                                                                             \u001b[0m\n",
      "\n",
      "  vision/imagewoof2-320     \u001b[0m  fastai/imagewoof2-320     \u001b[0m  (Image{2}, Label)       missing       \u001b[31m⨯            \u001b[0m  FastAI.Vision \u001b[0m  ImageFolders(...)\n",
      "                                                                                                                             \u001b[0m\n",
      "\n",
      "  vision/imagewoof-160      \u001b[0m  fastai/imagewoof-160      \u001b[0m  (Image{2}, Label)       missing       \u001b[31m⨯            \u001b[0m  FastAI.Vision \u001b[0m  ImageFolders(...)\n",
      "                                                                                                                             \u001b[0m\n",
      "\n",
      "  vision/imagewoof-320      \u001b[0m  fastai/imagewoof-320      \u001b[0m  (Image{2}, Label)       missing       \u001b[31m⨯            \u001b[0m  FastAI.Vision \u001b[0m  ImageFolders(...)\n",
      "                                                                                                                             \u001b[0m\n",
      "\n",
      "  vision/imagewang          \u001b[0m  fastai/imagewang          \u001b[0m  (Image{2}, Label)       missing       \u001b[31m⨯            \u001b[0m  FastAI.Vision \u001b[0m  ImageFolders(...)\n",
      "                                                                                                                             \u001b[0m\n",
      "\n",
      "  vision/mnist_tiny         \u001b[0m  fastai/mnist_tiny         \u001b[0m  (Image{2}, Label)       missing       \u001b[31m⨯            \u001b[0m  FastAI.Vision \u001b[0m  ImageFolders(...)\n",
      "                                                                                                                             \u001b[0m\n",
      "\n",
      "  vision/imagewoof          \u001b[0m  fastai/imagewoof          \u001b[0m  (Image{2}, Label)       missing       \u001b[31m⨯            \u001b[0m  FastAI.Vision \u001b[0m  ImageFolders(...)\n",
      "                                                                                                                             \u001b[0m\n",
      "\n",
      "  vision/imagenette2-160    \u001b[0m  fastai/imagenette2-160    \u001b[0m  (Image{2}, Label)       missing       \u001b[32m✔            \u001b[0m  FastAI.Vision \u001b[0m  ImageFolders(...)\n",
      "                                                                                                                             \u001b[0m\n",
      "\n",
      "  tabular/adult_sample      \u001b[0m  fastai/adult_sample       \u001b[0m  TableRow                missing       \u001b[32m✔            \u001b[0m  FastAI.Tabular\u001b[0m  TableDatasetRecipe(...)\n",
      "                                                                                                                             \u001b[0m\n",
      "\n",
      "  tabular/imdb_sample       \u001b[0m  fastai/imdb_sample        \u001b[0m  TableRow                missing       \u001b[31m⨯            \u001b[0m  FastAI.Tabular\u001b[0m  TableDatasetRecipe(...)\n",
      "                                                                                                                             \u001b[0m\n",
      "\n"
     ]
    }
   ],
   "source": [
    "datarecipes() |> _show"
   ]
  },
  {
   "cell_type": "markdown",
   "metadata": {},
   "source": [
    "We can likewise look at an entry:"
   ]
  },
  {
   "cell_type": "code",
   "execution_count": 74,
   "metadata": {},
   "outputs": [
    {
     "name": "stdout",
     "output_type": "stream",
     "text": [
      "RegistryEntry(\n",
      "\u001b[1m             \u001b[0m\u001b[1m   \u001b[0m\u001b[1m                       \u001b[0m\u001b[1m                                 \u001b[0m\n",
      "          id  =  vision/imagewoof2-160\u001b[0m  \u001b[90m(String)                       \u001b[0m\n",
      "                                      \u001b[0m\n",
      "   datasetid  =  fastai/imagewoof2-160\u001b[0m  \u001b[90m(String)                       \u001b[0m\n",
      "                                      \u001b[0m\n",
      "      blocks  =  (Image{2}, Label)    \u001b[0m  \u001b[90m(Any)                          \u001b[0m\n",
      "                                      \u001b[0m\n",
      " description  =  \u001b[90mmissing              \u001b[0m  \u001b[90m(String)                       \u001b[0m\n",
      "  downloaded  =  \u001b[32m✔                    \u001b[0m  \u001b[90m(Bool)                         \u001b[0m\n",
      "                                      \u001b[0m\n",
      "     package  =  FastAI.Vision        \u001b[0m  \u001b[90m(Module)                       \u001b[0m\n",
      "                                      \u001b[0m\n",
      "                                      \u001b[0m\n",
      "      recipe  =  ImageFolders(...)    \u001b[0m  \u001b[90m(FastAI.Datasets.DatasetRecipe)\u001b[0m\n",
      "\n",
      ")"
     ]
    }
   ],
   "source": [
    "(recipe = datarecipes()[\"vision/imagewoof2-160\"]) |> _show"
   ]
  },
  {
   "cell_type": "markdown",
   "metadata": {},
   "source": [
    "And load it, giving us a ready-to-use data container and blocks:"
   ]
  },
  {
   "cell_type": "code",
   "execution_count": 75,
   "metadata": {},
   "outputs": [
    {
     "data": {
      "image/png": "[encoded data removed]",
      "text/plain": [
       "166×160 Array{RGB{N0f8},2} with eltype ColorTypes.RGB{FixedPointNumbers.N0f8}:\n",
       "\u001b[0m\u001b[38;5;16;48;5;236m▀\u001b[38;5;235;48;5;102m▀\u001b[38;5;59;48;5;102m▀\u001b[38;5;235;48;5;102m▀\u001b[38;5;58;48;5;102m▀\u001b[38;5;58;48;5;102m▀\u001b[38;5;59;48;5;102m▀\u001b[38;5;235;48;5;102m▀\u001b[38;5;59;48;5;102m▀\u001b[38;5;59;48;5;241m▀\u001b[38;5;59;48;5;243m▀\u001b[38;5;235;48;5;242m▀\u001b[38;5;235;48;5;240m▀\u001b[38;5;236;48;5;102m▀\u001b[38;5;237;48;5;102m▀\u001b[38;5;59;48;5;145m▀\u001b[38;5;59;48;5;145m▀\u001b[38;5;237;48;5;242m▀\u001b[38;5;236;48;5;241m▀\u001b[38;5;235;48;5;102m▀\u001b[38;5;233;48;5;235m▀\u001b[0m\n",
       "\u001b[0m\u001b[38;5;59;48;5;59m▀\u001b[38;5;243;48;5;144m▀\u001b[38;5;102;48;5;244m▀\u001b[38;5;102;48;5;244m▀\u001b[38;5;144;48;5;243m▀\u001b[38;5;244;48;5;243m▀\u001b[38;5;144;48;5;245m▀\u001b[38;5;102;48;5;145m▀\u001b[38;5;102;48;5;244m▀\u001b[38;5;102;48;5;102m▀\u001b[38;5;242;48;5;102m▀\u001b[38;5;242;48;5;239m▀\u001b[38;5;240;48;5;59m▀\u001b[38;5;101;48;5;59m▀\u001b[38;5;59;48;5;59m▀\u001b[38;5;238;48;5;59m▀\u001b[38;5;237;48;5;235m▀\u001b[38;5;59;48;5;59m▀\u001b[38;5;59;48;5;59m▀\u001b[38;5;59;48;5;59m▀\u001b[38;5;234;48;5;16m▀\u001b[0m\n",
       "\u001b[0m\u001b[38;5;59;48;5;59m▀\u001b[38;5;108;48;5;102m▀\u001b[38;5;145;48;5;102m▀\u001b[38;5;145;48;5;244m▀\u001b[38;5;245;48;5;245m▀\u001b[38;5;144;48;5;244m▀\u001b[38;5;245;48;5;244m▀\u001b[38;5;244;48;5;102m▀\u001b[38;5;243;48;5;102m▀\u001b[38;5;102;48;5;243m▀\u001b[38;5;102;48;5;102m▀\u001b[38;5;102;48;5;102m▀\u001b[38;5;59;48;5;101m▀\u001b[38;5;236;48;5;59m▀\u001b[38;5;59;48;5;59m▀\u001b[38;5;59;48;5;59m▀\u001b[38;5;235;48;5;235m▀\u001b[38;5;59;48;5;235m▀\u001b[38;5;59;48;5;101m▀\u001b[38;5;59;48;5;59m▀\u001b[38;5;16;48;5;58m▀\u001b[0m\n",
       "\u001b[0m\u001b[38;5;59;48;5;237m▀\u001b[38;5;102;48;5;102m▀\u001b[38;5;102;48;5;102m▀\u001b[38;5;242;48;5;102m▀\u001b[38;5;144;48;5;138m▀\u001b[38;5;243;48;5;243m▀\u001b[38;5;243;48;5;244m▀\u001b[38;5;102;48;5;102m▀\u001b[38;5;242;48;5;242m▀\u001b[38;5;242;48;5;241m▀\u001b[38;5;101;48;5;101m▀\u001b[38;5;101;48;5;101m▀\u001b[38;5;101;48;5;95m▀\u001b[38;5;59;48;5;59m▀\u001b[38;5;58;48;5;58m▀\u001b[38;5;59;48;5;58m▀\u001b[38;5;59;48;5;59m▀\u001b[38;5;59;48;5;59m▀\u001b[38;5;101;48;5;101m▀\u001b[38;5;95;48;5;101m▀\u001b[38;5;58;48;5;59m▀\u001b[0m\n",
       "\u001b[0m\u001b[38;5;59;48;5;237m▀\u001b[38;5;102;48;5;102m▀\u001b[38;5;102;48;5;102m▀\u001b[38;5;102;48;5;102m▀\u001b[38;5;102;48;5;102m▀\u001b[38;5;244;48;5;243m▀\u001b[38;5;244;48;5;102m▀\u001b[38;5;242;48;5;238m▀\u001b[38;5;242;48;5;239m▀\u001b[38;5;102;48;5;102m▀\u001b[38;5;101;48;5;101m▀\u001b[38;5;95;48;5;95m▀\u001b[38;5;95;48;5;59m▀\u001b[38;5;95;48;5;59m▀\u001b[38;5;59;48;5;59m▀\u001b[38;5;235;48;5;59m▀\u001b[38;5;59;48;5;59m▀\u001b[38;5;59;48;5;59m▀\u001b[38;5;101;48;5;59m▀\u001b[38;5;101;48;5;59m▀\u001b[38;5;59;48;5;58m▀\u001b[0m\n",
       "\u001b[0m\u001b[38;5;238;48;5;238m▀\u001b[38;5;108;48;5;144m▀\u001b[38;5;102;48;5;102m▀\u001b[38;5;102;48;5;102m▀\u001b[38;5;102;48;5;95m▀\u001b[38;5;242;48;5;240m▀\u001b[38;5;240;48;5;241m▀\u001b[38;5;237;48;5;102m▀\u001b[38;5;59;48;5;102m▀\u001b[38;5;241;48;5;102m▀\u001b[38;5;102;48;5;102m▀\u001b[38;5;59;48;5;59m▀\u001b[38;5;59;48;5;59m▀\u001b[38;5;59;48;5;59m▀\u001b[38;5;59;48;5;102m▀\u001b[38;5;59;48;5;59m▀\u001b[38;5;59;48;5;59m▀\u001b[38;5;59;48;5;102m▀\u001b[38;5;101;48;5;102m▀\u001b[38;5;101;48;5;102m▀\u001b[38;5;59;48;5;59m▀\u001b[0m\n",
       "\u001b[0m\u001b[38;5;238;48;5;238m▀\u001b[38;5;244;48;5;144m▀\u001b[38;5;243;48;5;144m▀\u001b[38;5;244;48;5;246m▀\u001b[38;5;241;48;5;244m▀\u001b[38;5;239;48;5;102m▀\u001b[38;5;102;48;5;102m▀\u001b[38;5;138;48;5;102m▀\u001b[38;5;242;48;5;102m▀\u001b[38;5;102;48;5;102m▀\u001b[38;5;101;48;5;101m▀\u001b[38;5;59;48;5;102m▀\u001b[38;5;59;48;5;102m▀\u001b[38;5;102;48;5;242m▀\u001b[38;5;102;48;5;243m▀\u001b[38;5;102;48;5;102m▀\u001b[38;5;101;48;5;102m▀\u001b[38;5;102;48;5;102m▀\u001b[38;5;102;48;5;102m▀\u001b[38;5;102;48;5;102m▀\u001b[38;5;59;48;5;59m▀\u001b[0m\n",
       "\u001b[0m\u001b[38;5;238;48;5;239m▀\u001b[38;5;245;48;5;145m▀\u001b[38;5;246;48;5;145m▀\u001b[38;5;145;48;5;145m▀\u001b[38;5;244;48;5;242m▀\u001b[38;5;102;48;5;65m▀\u001b[38;5;101;48;5;102m▀\u001b[38;5;108;48;5;144m▀\u001b[38;5;107;48;5;107m▀\u001b[38;5;101;48;5;101m▀\u001b[38;5;101;48;5;101m▀\u001b[38;5;239;48;5;101m▀\u001b[38;5;102;48;5;241m▀\u001b[38;5;243;48;5;102m▀\u001b[38;5;108;48;5;102m▀\u001b[38;5;243;48;5;102m▀\u001b[38;5;102;48;5;102m▀\u001b[38;5;102;48;5;102m▀\u001b[38;5;102;48;5;102m▀\u001b[38;5;102;48;5;102m▀\u001b[38;5;59;48;5;59m▀\u001b[0m\n",
       "\u001b[0m\u001b[38;5;59;48;5;102m▀\u001b[38;5;245;48;5;145m▀\u001b[38;5;145;48;5;145m▀\u001b[38;5;243;48;5;102m▀\u001b[38;5;101;48;5;102m▀\u001b[38;5;101;48;5;102m▀\u001b[38;5;102;48;5;102m▀\u001b[38;5;144;48;5;102m▀\u001b[38;5;101;48;5;102m▀\u001b[38;5;101;48;5;101m▀\u001b[38;5;101;48;5;102m▀\u001b[38;5;101;48;5;102m▀\u001b[38;5;102;48;5;243m▀\u001b[38;5;102;48;5;242m▀\u001b[38;5;102;48;5;102m▀\u001b[38;5;102;48;5;102m▀\u001b[38;5;102;48;5;102m▀\u001b[38;5;102;48;5;102m▀\u001b[38;5;102;48;5;102m▀\u001b[38;5;102;48;5;102m▀\u001b[38;5;237;48;5;237m▀\u001b[0m\n",
       "\u001b[0m\u001b[38;5;102;48;5;102m▀\u001b[38;5;145;48;5;188m▀\u001b[38;5;145;48;5;152m▀\u001b[38;5;145;48;5;145m▀\u001b[38;5;245;48;5;145m▀\u001b[38;5;245;48;5;145m▀\u001b[38;5;145;48;5;245m▀\u001b[38;5;246;48;5;245m▀\u001b[38;5;145;48;5;145m▀\u001b[38;5;243;48;5;145m▀\u001b[38;5;245;48;5;245m▀\u001b[38;5;102;48;5;244m▀\u001b[38;5;242;48;5;144m▀\u001b[38;5;102;48;5;102m▀\u001b[38;5;102;48;5;102m▀\u001b[38;5;102;48;5;102m▀\u001b[38;5;102;48;5;102m▀\u001b[38;5;102;48;5;102m▀\u001b[38;5;102;48;5;102m▀\u001b[38;5;102;48;5;102m▀\u001b[38;5;237;48;5;236m▀\u001b[0m\n",
       "\u001b[0m\u001b[38;5;102;48;5;59m▀\u001b[38;5;152;48;5;60m▀\u001b[38;5;152;48;5;60m▀\u001b[38;5;146;48;5;59m▀\u001b[38;5;145;48;5;238m▀\u001b[38;5;245;48;5;237m▀\u001b[38;5;245;48;5;59m▀\u001b[38;5;244;48;5;237m▀\u001b[38;5;145;48;5;237m▀\u001b[38;5;145;48;5;59m▀\u001b[38;5;245;48;5;237m▀\u001b[38;5;244;48;5;237m▀\u001b[38;5;108;48;5;237m▀\u001b[38;5;243;48;5;59m▀\u001b[38;5;102;48;5;236m▀\u001b[38;5;102;48;5;236m▀\u001b[38;5;102;48;5;236m▀\u001b[38;5;102;48;5;236m▀\u001b[38;5;102;48;5;236m▀\u001b[38;5;102;48;5;59m▀\u001b[38;5;236;48;5;234m▀\u001b[0m"
      ]
     },
     "metadata": {},
     "output_type": "display_data"
    }
   ],
   "source": [
    "data, blocks = load(recipe)\n",
    "getobs(data, 1)[1]"
   ]
  },
  {
   "cell_type": "markdown",
   "metadata": {},
   "source": [
    "## Learning tasks"
   ]
  },
  {
   "cell_type": "markdown",
   "metadata": {},
   "source": [
    "Finally, learning tasks can also be listed:"
   ]
  },
  {
   "cell_type": "code",
   "execution_count": 76,
   "metadata": {},
   "outputs": [
    {
     "name": "stdout",
     "output_type": "stream",
     "text": [
      "\u001b[1mRegistry(Learning tasks, 6 entries)\u001b[0m\n",
      "\n",
      " \u001b[1m ID                       \u001b[0m\u001b[1m Name                                  \u001b[0m\u001b[1m Block types            \u001b[0m\u001b[1m Category   \u001b[0m\u001b[1m Description                              \u001b[0m\u001b[1m Learning task                            \u001b[0m\u001b[1m Package        \u001b[0m\n",
      " \u001b[90m :id                      \u001b[0m\u001b[90m :name                                 \u001b[0m\u001b[90m :blocks                \u001b[0m\u001b[90m :category  \u001b[0m\u001b[90m :description                             \u001b[0m\u001b[90m :constructor                             \u001b[0m\u001b[90m :package       \u001b[0m\n",
      "\n",
      "  vision/imageclfmulti    \u001b[0m  Image classification (multi-label)   \u001b[0m  (Image, LabelMulti)     supervised\u001b[0m    Multi-label image classification task…  ImageClassificationMulti (generic funct\u001b[0m…  FastAI.Vision \u001b[0m\n",
      "                                                                                                                                                                                         \u001b[0m                \u001b[0m\n",
      "\n",
      "  vision/imagekeypoint    \u001b[0m  Image keypoint regression            \u001b[0m  (Image, Keypoints)      supervised\u001b[0m    Keypoint regression task with a fixed…  ImageKeypointRegression (generic functi\u001b[0m…  FastAI.Vision \u001b[0m\n",
      "                                                                                                                                                                                         \u001b[0m                \u001b[0m\n",
      "\n",
      "  vision/imagesegmentation\u001b[0m  Image segmentation                   \u001b[0m  (Image, Mask)           supervised\u001b[0m    Semantic segmentation task in which e…  ImageSegmentation (generic function wit\u001b[0m…  FastAI.Vision \u001b[0m\n",
      "                                                                                                                                                                                         \u001b[0m                \u001b[0m\n",
      "\n",
      "  vision/imageclfsingle   \u001b[0m  Image classification (single-label)  \u001b[0m  (Image, Label)          supervised\u001b[0m    Single-label image classification tas…  ImageClassificationSingle (generic func\u001b[0m…  FastAI.Vision \u001b[0m\n",
      "                                                                                                                                                                                         \u001b[0m                \u001b[0m\n",
      "\n",
      "  tabular/clfsingle       \u001b[0m  Tabular classification (single-label)\u001b[0m  (TableRow, Label)       supervised\u001b[0m    Task where a table row with categoric…  TabularClassificationSingle (generic fu\u001b[0m…  FastAI.Tabular\u001b[0m\n",
      "                                                                                                                                                                                         \u001b[0m                \u001b[0m\n",
      "\n",
      "  tabular/regression      \u001b[0m  Tabular regression                   \u001b[0m  (TableRow, Continuous)  supervised\u001b[0m    Task where a number of continuous var…  TabularClassificationSingle (generic fu\u001b[0m…  FastAI.Tabular\u001b[0m\n",
      "                                                                                                                                                                                         \u001b[0m                \u001b[0m\n",
      "\n"
     ]
    }
   ],
   "source": [
    "learningtasks() |> _show"
   ]
  },
  {
   "cell_type": "code",
   "execution_count": 77,
   "metadata": {},
   "outputs": [
    {
     "name": "stdout",
     "output_type": "stream",
     "text": [
      "RegistryEntry(\n",
      "\u001b[1m             \u001b[0m\u001b[1m   \u001b[0m\u001b[1m                                                             \u001b[0m\u001b[1m          \u001b[0m\n",
      "          id  =  vision/imageclfsingle                                      \u001b[0m  \u001b[90m(String)\u001b[0m\n",
      "                                                                            \u001b[0m\n",
      "        name  =  Image classification (single-label)                        \u001b[0m  \u001b[90m(String)\u001b[0m\n",
      "                                                                            \u001b[0m\n",
      "      blocks  =  (Image, Label)                                             \u001b[0m  \u001b[90m(Any)   \u001b[0m\n",
      "                                                                            \u001b[0m\n",
      "    category  =  supervised                                                 \u001b[0m  \u001b[90m(String)\u001b[0m\n",
      "                                                                            \u001b[0m\n",
      " description  =    Single-label image classification                        \u001b[0m  \u001b[90m(String)\u001b[0m\n",
      "                   task where every image has a single                      \u001b[0m\n",
      "                   class label associated with it.                          \u001b[0m\n",
      "                                                                            \u001b[0m\n",
      " constructor  =  ImageClassificationSingle (generic function with 3 methods)\u001b[0m  \u001b[90m(Any)   \u001b[0m\n",
      "                                                                            \u001b[0m\n",
      "                                                                            \u001b[0m\n",
      "     package  =  FastAI.Vision                                              \u001b[0m  \u001b[90m(Module)\u001b[0m\n",
      "                                                                            \u001b[0m\n",
      "                                                                            \u001b[0m\n",
      "\n",
      ")"
     ]
    }
   ],
   "source": [
    "learningtasks()[\"vision/imageclfsingle\"] |> _show"
   ]
  },
  {
   "cell_type": "code",
   "execution_count": 78,
   "metadata": {},
   "outputs": [
    {
     "data": {
      "text/plain": [
       "SupervisedTask(Image{2} -> Label{String})"
      ]
     },
     "metadata": {},
     "output_type": "display_data"
    }
   ],
   "source": [
    "task = load(learningtasks()[\"vision/imageclfsingle\"])(blocks; size = (200, 200))"
   ]
  },
  {
   "cell_type": "code",
   "execution_count": 79,
   "metadata": {},
   "outputs": [
    {
     "data": {
      "text/plain": [
       "Learner()"
      ]
     },
     "metadata": {},
     "output_type": "display_data"
    }
   ],
   "source": [
    "learner = tasklearner(task, data)"
   ]
  },
  {
   "cell_type": "markdown",
   "metadata": {},
   "source": [
    "## Finding features"
   ]
  },
  {
   "cell_type": "markdown",
   "metadata": {},
   "source": [
    "Aside from listing a big table with features, we can also find entries that are relevant to us.\n",
    "\n",
    "For example, **find all the datasets that have already been downloaded:**"
   ]
  },
  {
   "cell_type": "code",
   "execution_count": 83,
   "metadata": {},
   "outputs": [
    {
     "name": "stdout",
     "output_type": "stream",
     "text": [
      "\u001b[1mRegistry(Datasets, 2 entries)\u001b[0m\n",
      "\n",
      " \u001b[1m ID                     \u001b[0m\u001b[1m Name            \u001b[0m\u001b[1m Size    \u001b[0m\u001b[1m Is downloaded \u001b[0m\u001b[1m Tags     \u001b[0m\u001b[1m Description                              \u001b[0m\u001b[1m Dataset loader     \u001b[0m\u001b[1m Package  \u001b[0m\n",
      " \u001b[90m :id                    \u001b[0m\u001b[90m :name           \u001b[0m\u001b[90m :size   \u001b[0m\u001b[90m :downloaded   \u001b[0m\u001b[90m :tags    \u001b[0m\u001b[90m :description                             \u001b[0m\u001b[90m :loader            \u001b[0m\u001b[90m :package \u001b[0m\n",
      "\n",
      "  fastai/imagenette2-160\u001b[0m  imagenette2-160\u001b[0m  \u001b[90mmissing\u001b[0m  \u001b[32m✔            \u001b[0m  String[]\u001b[0m    A subset of 10 easily classified clas…  DataDepLoader(...)  FastAI  \u001b[0m\n",
      "                                                                           \u001b[0m                                                                        \u001b[0m\n",
      "\n",
      "  fastai/imagewoof2-160 \u001b[0m  imagewoof2-160 \u001b[0m  \u001b[90mmissing\u001b[0m  \u001b[32m✔            \u001b[0m  String[]\u001b[0m    A subset of 10 harder to classify cla…  DataDepLoader(...)  FastAI  \u001b[0m\n",
      "                                                                           \u001b[0m                                                                        \u001b[0m\n",
      "\n"
     ]
    }
   ],
   "source": [
    "datasets(downloaded=true, description=!ismissing) |> _show"
   ]
  },
  {
   "cell_type": "markdown",
   "metadata": {},
   "source": [
    "**Find all dataset recipes with classification targets:**"
   ]
  },
  {
   "cell_type": "code",
   "execution_count": 65,
   "metadata": {},
   "outputs": [
    {
     "name": "stdout",
     "output_type": "stream",
     "text": [
      "\u001b[1mRegistry(Dataset recipes, 24 entries)\u001b[0m\n",
      "\n",
      " \u001b[1m ID                         \u001b[0m\u001b[1m Dataset ID                 \u001b[0m\u001b[1m Block types       \u001b[0m\u001b[1m Description  \u001b[0m\u001b[1m Is downloaded \u001b[0m\u001b[1m Package       \u001b[0m\u001b[1m Recipe            \u001b[0m\n",
      " \u001b[90m :id                        \u001b[0m\u001b[90m :datasetid                 \u001b[0m\u001b[90m :blocks           \u001b[0m\u001b[90m :description \u001b[0m\u001b[90m :downloaded   \u001b[0m\u001b[90m :package      \u001b[0m\u001b[90m :recipe           \u001b[0m\n",
      "\n",
      "  vision/CUB_200_2011       \u001b[0m  fastai/CUB_200_2011       \u001b[0m  (Image{2}, Label)  missing       \u001b[31m⨯            \u001b[0m  FastAI.Vision\u001b[0m  ImageFolders(...)\n",
      "                                                                                                                       \u001b[0m\n",
      "\n",
      "  vision/imagenette         \u001b[0m  fastai/imagenette         \u001b[0m  (Image{2}, Label)  missing       \u001b[31m⨯            \u001b[0m  FastAI.Vision\u001b[0m  ImageFolders(...)\n",
      "                                                                                                                       \u001b[0m\n",
      "\n",
      "  vision/imagenette2        \u001b[0m  fastai/imagenette2        \u001b[0m  (Image{2}, Label)  missing       \u001b[31m⨯            \u001b[0m  FastAI.Vision\u001b[0m  ImageFolders(...)\n",
      "                                                                                                                       \u001b[0m\n",
      "\n",
      "  vision/imagewang-320      \u001b[0m  fastai/imagewang-320      \u001b[0m  (Image{2}, Label)  missing       \u001b[31m⨯            \u001b[0m  FastAI.Vision\u001b[0m  ImageFolders(...)\n",
      "                                                                                                                       \u001b[0m\n",
      "\n",
      "  vision/mnist_sample       \u001b[0m  fastai/mnist_sample       \u001b[0m  (Image{2}, Label)  missing       \u001b[31m⨯            \u001b[0m  FastAI.Vision\u001b[0m  ImageFolders(...)\n",
      "                                                                                                                       \u001b[0m\n",
      "\n",
      "  vision/imagenette-160     \u001b[0m  fastai/imagenette-160     \u001b[0m  (Image{2}, Label)  missing       \u001b[31m⨯            \u001b[0m  FastAI.Vision\u001b[0m  ImageFolders(...)\n",
      "                                                                                                                       \u001b[0m\n",
      "\n",
      "  vision/imagenette-320     \u001b[0m  fastai/imagenette-320     \u001b[0m  (Image{2}, Label)  missing       \u001b[31m⨯            \u001b[0m  FastAI.Vision\u001b[0m  ImageFolders(...)\n",
      "                                                                                                                       \u001b[0m\n",
      "\n",
      "  vision/imagewoof2-160     \u001b[0m  fastai/imagewoof2-160     \u001b[0m  (Image{2}, Label)  missing       \u001b[32m✔            \u001b[0m  FastAI.Vision\u001b[0m  ImageFolders(...)\n",
      "                                                                                                                       \u001b[0m\n",
      "\n",
      "  vision/cifar100           \u001b[0m  fastai/cifar100           \u001b[0m  (Image{2}, Label)  missing       \u001b[31m⨯            \u001b[0m  FastAI.Vision\u001b[0m  ImageFolders(...)\n",
      "                                                                                                                       \u001b[0m\n",
      "\n",
      "  vision/imagewang-160      \u001b[0m  fastai/imagewang-160      \u001b[0m  (Image{2}, Label)  missing       \u001b[31m⨯            \u001b[0m  FastAI.Vision\u001b[0m  ImageFolders(...)\n",
      "                                                                                                                       \u001b[0m\n",
      "\n",
      "  vision/mnist_var_size_tiny\u001b[0m  fastai/mnist_var_size_tiny\u001b[0m  (Image{2}, Label)  missing       \u001b[32m✔            \u001b[0m  FastAI.Vision\u001b[0m  ImageFolders(...)\n",
      "                                                                                                                       \u001b[0m\n",
      "\n",
      "  vision/cifar10            \u001b[0m  fastai/cifar10            \u001b[0m  (Image{2}, Label)  missing       \u001b[31m⨯            \u001b[0m  FastAI.Vision\u001b[0m  ImageFolders(...)\n",
      "                                                                                                                       \u001b[0m\n",
      "\n",
      "  vision/mnist_png          \u001b[0m  fastai/mnist_png          \u001b[0m  (Image{2}, Label)  missing       \u001b[31m⨯            \u001b[0m  FastAI.Vision\u001b[0m  ImageFolders(...)\n",
      "                                                                                                                       \u001b[0m\n",
      "\n",
      "  vision/caltech_101        \u001b[0m  fastai/caltech_101        \u001b[0m  (Image{2}, Label)  missing       \u001b[31m⨯            \u001b[0m  FastAI.Vision\u001b[0m  ImageFolders(...)\n",
      "                                                                                                                       \u001b[0m\n",
      "\n",
      "  vision/food-101           \u001b[0m  fastai/food-101           \u001b[0m  (Image{2}, Label)  missing       \u001b[31m⨯            \u001b[0m  FastAI.Vision\u001b[0m  ImageFolders(...)\n",
      "                                                                                                                       \u001b[0m\n",
      "\n",
      "  vision/imagenette2-320    \u001b[0m  fastai/imagenette2-320    \u001b[0m  (Image{2}, Label)  missing       \u001b[31m⨯            \u001b[0m  FastAI.Vision\u001b[0m  ImageFolders(...)\n",
      "                                                                                                                       \u001b[0m\n",
      "\n",
      "  vision/imagewoof2         \u001b[0m  fastai/imagewoof2         \u001b[0m  (Image{2}, Label)  missing       \u001b[31m⨯            \u001b[0m  FastAI.Vision\u001b[0m  ImageFolders(...)\n",
      "                                                                                                                       \u001b[0m\n",
      "\n",
      "  vision/imagewoof2-320     \u001b[0m  fastai/imagewoof2-320     \u001b[0m  (Image{2}, Label)  missing       \u001b[31m⨯            \u001b[0m  FastAI.Vision\u001b[0m  ImageFolders(...)\n",
      "                                                                                                                       \u001b[0m\n",
      "\n",
      "  vision/imagewoof-160      \u001b[0m  fastai/imagewoof-160      \u001b[0m  (Image{2}, Label)  missing       \u001b[31m⨯            \u001b[0m  FastAI.Vision\u001b[0m  ImageFolders(...)\n",
      "                                                                                                                       \u001b[0m\n",
      "\n",
      "  vision/imagewoof-320      \u001b[0m  fastai/imagewoof-320      \u001b[0m  (Image{2}, Label)  missing       \u001b[31m⨯            \u001b[0m  FastAI.Vision\u001b[0m  ImageFolders(...)\n",
      "                                                                                                                       \u001b[0m\n",
      "\n",
      "  vision/imagewang          \u001b[0m  fastai/imagewang          \u001b[0m  (Image{2}, Label)  missing       \u001b[31m⨯            \u001b[0m  FastAI.Vision\u001b[0m  ImageFolders(...)\n",
      "                                                                                                                       \u001b[0m\n",
      "\n",
      "  vision/mnist_tiny         \u001b[0m  fastai/mnist_tiny         \u001b[0m  (Image{2}, Label)  missing       \u001b[31m⨯            \u001b[0m  FastAI.Vision\u001b[0m  ImageFolders(...)\n",
      "                                                                                                                       \u001b[0m\n",
      "\n",
      "  vision/imagewoof          \u001b[0m  fastai/imagewoof          \u001b[0m  (Image{2}, Label)  missing       \u001b[31m⨯            \u001b[0m  FastAI.Vision\u001b[0m  ImageFolders(...)\n",
      "                                                                                                                       \u001b[0m\n",
      "\n",
      "  vision/imagenette2-160    \u001b[0m  fastai/imagenette2-160    \u001b[0m  (Image{2}, Label)  missing       \u001b[32m✔            \u001b[0m  FastAI.Vision\u001b[0m  ImageFolders(...)\n",
      "                                                                                                                       \u001b[0m\n",
      "\n"
     ]
    }
   ],
   "source": [
    "datarecipes(blocks=(Any, Label)) |> _show"
   ]
  },
  {
   "cell_type": "markdown",
   "metadata": {},
   "source": [
    "**Find all learning tasks with image inputs:**"
   ]
  },
  {
   "cell_type": "code",
   "execution_count": 67,
   "metadata": {},
   "outputs": [
    {
     "name": "stdout",
     "output_type": "stream",
     "text": [
      "\u001b[1mRegistry(Learning tasks, 4 entries)\u001b[0m\n",
      "\n",
      " \u001b[1m ID                       \u001b[0m\u001b[1m Name                                \u001b[0m\u001b[1m Block types         \u001b[0m\u001b[1m Category   \u001b[0m\u001b[1m Description                              \u001b[0m\u001b[1m Learning task                            \u001b[0m\u001b[1m Package       \u001b[0m\n",
      " \u001b[90m :id                      \u001b[0m\u001b[90m :name                               \u001b[0m\u001b[90m :blocks             \u001b[0m\u001b[90m :category  \u001b[0m\u001b[90m :description                             \u001b[0m\u001b[90m :constructor                             \u001b[0m\u001b[90m :package      \u001b[0m\n",
      "\n",
      "  vision/imageclfmulti    \u001b[0m  Image classification (multi-label) \u001b[0m  (Image, LabelMulti)  supervised\u001b[0m    Multi-label image classification task…  ImageClassificationMulti (generic funct\u001b[0m…  FastAI.Vision\u001b[0m\n",
      "                                                                                                                                                                                    \u001b[0m               \u001b[0m\n",
      "\n",
      "  vision/imagekeypoint    \u001b[0m  Image keypoint regression          \u001b[0m  (Image, Keypoints)   supervised\u001b[0m    Keypoint regression task with a fixed…  ImageKeypointRegression (generic functi\u001b[0m…  FastAI.Vision\u001b[0m\n",
      "                                                                                                                                                                                    \u001b[0m               \u001b[0m\n",
      "\n",
      "  vision/imagesegmentation\u001b[0m  Image segmentation                 \u001b[0m  (Image, Mask)        supervised\u001b[0m    Semantic segmentation task in which e…  ImageSegmentation (generic function wit\u001b[0m…  FastAI.Vision\u001b[0m\n",
      "                                                                                                                                                                                    \u001b[0m               \u001b[0m\n",
      "\n",
      "  vision/imageclfsingle   \u001b[0m  Image classification (single-label)\u001b[0m  (Image, Label)       supervised\u001b[0m    Single-label image classification tas…  ImageClassificationSingle (generic func\u001b[0m…  FastAI.Vision\u001b[0m\n",
      "                                                                                                                                                                                    \u001b[0m               \u001b[0m\n",
      "\n"
     ]
    }
   ],
   "source": [
    "learningtasks(blocks=(Image, Any)) |> _show"
   ]
  },
  {
   "cell_type": "markdown",
   "metadata": {},
   "source": [
    "## Outlook"
   ]
  },
  {
   "cell_type": "markdown",
   "metadata": {},
   "source": [
    "This work will support other future efforts:\n",
    "\n",
    "- **Domain libraries**: make it easy for third-party libraries to contribute features (datasets, recipes, models, tasks, encodings...) and easy for users to discover these features.\n",
    "- **No-code interfaces**: having a consistent way to search for features and relating them to relevant `Block`s makes it possible to build no-code, dropdown-based interfaces to choose an appropriate dataset, find a learning task, or build a model for a task; and finally, train a model."
   ]
  }
 ],
 "metadata": {
  "kernelspec": {
   "display_name": "Julia 1.8.0-beta3",
   "language": "julia",
   "name": "julia-1.8"
  },
  "language_info": {
   "file_extension": ".jl",
   "mimetype": "application/julia",
   "name": "julia",
   "version": "1.8.0-beta3"
  },
  "orig_nbformat": 4
 },
 "nbformat": 4,
 "nbformat_minor": 2
}

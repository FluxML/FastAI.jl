{
 "cells": [
  {
   "cell_type": "markdown",
   "id": "88626d99",
   "metadata": {},
   "source": [
    "## Time Series Regression"
   ]
  },
  {
   "cell_type": "markdown",
   "id": "e3cce234",
   "metadata": {},
   "source": [
    "Importing things we would need."
   ]
  },
  {
   "cell_type": "code",
   "execution_count": 2,
   "id": "a4c955b9",
   "metadata": {},
   "outputs": [],
   "source": [
    "using FastAI, FastTimeSeries, Flux"
   ]
  },
  {
   "cell_type": "markdown",
   "id": "7670a54a",
   "metadata": {},
   "source": [
    "### Loading The Data\n",
    "We are going to select a dataset from the recently released Monash, UEA & UCR \n",
    "Time Series Extrinsic Regression Repository (2020) ([web](http://tseregression.org), [paper](https://arxiv.org/abs/2006.10996)). "
   ]
  },
  {
   "cell_type": "code",
   "execution_count": 3,
   "id": "82e17f5e",
   "metadata": {},
   "outputs": [],
   "source": [
    "data, blocks = load(datarecipes()[\"appliances_energy\"]);"
   ]
  },
  {
   "cell_type": "markdown",
   "id": "3048070b",
   "metadata": {},
   "source": [
    "`getobs` gets us a sample from the TimeSeriesDataset. It returns a tuple with the input time series and the correspodning label."
   ]
  },
  {
   "cell_type": "code",
   "execution_count": 4,
   "id": "c046f3b4",
   "metadata": {},
   "outputs": [
    {
     "data": {
      "text/plain": [
       "(Float32[23.7 23.7 … 24.0 24.1; 30.856667 30.663334 … 31.066668 31.23; … ; 40.0 40.0 … 40.0 40.0; 0.6 0.55 … 1.3666667 1.3333334], 11.49f0)"
      ]
     },
     "execution_count": 4,
     "metadata": {},
     "output_type": "execute_result"
    }
   ],
   "source": [
    "input, label = sample = getobs(data, 25)"
   ]
  },
  {
   "cell_type": "markdown",
   "id": "127b7128",
   "metadata": {},
   "source": [
    "Now we create a learning task for time-series regression. This means using the time-series to predict labels. We will use the TimeSeriesRow block as input and `Continuous` block as the target."
   ]
  },
  {
   "cell_type": "code",
   "execution_count": 5,
   "id": "52ae0acc",
   "metadata": {},
   "outputs": [],
   "source": [
    "task = TSRegression(blocks, data);"
   ]
  },
  {
   "cell_type": "markdown",
   "id": "3586d511",
   "metadata": {},
   "source": [
    "The encodings passed in transform samples into formats suitable as inputs and outputs for a model"
   ]
  },
  {
   "cell_type": "markdown",
   "id": "6af58a5c",
   "metadata": {},
   "source": [
    "Let's check that samples from the created data container conform to the blocks of the learning task:"
   ]
  },
  {
   "cell_type": "code",
   "execution_count": 6,
   "id": "f19b9eb8",
   "metadata": {},
   "outputs": [
    {
     "data": {
      "text/plain": [
       "true"
      ]
     },
     "execution_count": 6,
     "metadata": {},
     "output_type": "execute_result"
    }
   ],
   "source": [
    "checkblock(task.blocks.sample, sample)"
   ]
  },
  {
   "cell_type": "markdown",
   "id": "4898b64f",
   "metadata": {},
   "source": [
    "To get an overview of the learning task created, and as a sanity test, we can use describetask. This shows us what encodings will be applied to which blocks, and how the predicted ŷ values are decoded."
   ]
  },
  {
   "cell_type": "code",
   "execution_count": 7,
   "id": "3156cc21",
   "metadata": {},
   "outputs": [
    {
     "data": {
      "text/latex": [
       "\\textbf{\\texttt{SupervisedTask} summary}\n",
       "\n",
       "Learning task for the supervised task with input \\texttt{TimeSeriesRow} and target \\texttt{Continuous}. Compatible with \\texttt{model}s that take in \\texttt{TimeSeriesRow} and output \\texttt{Continuous}.\n",
       "\n",
       "Encoding a sample (\\texttt{encodesample(task, context, sample)}) is done through the following encodings:\n",
       "\n",
       "\\begin{tabular}\n",
       "{r | r | r | r}\n",
       "Encoding & Name & \\texttt{blocks.input} & \\texttt{blocks.target} \\\\\n",
       "\\hline\n",
       " & \\texttt{(input, target)} & \\texttt{TimeSeriesRow} & \\texttt{Continuous} \\\\\n",
       "\\texttt{ContinuousPreprocessing} &  &  &  \\\\\n",
       "\\texttt{TSPreprocessing} & \\texttt{(x, y)} & \\textbf{\\texttt{TimeSeriesRow}} &  \\\\\n",
       "\\end{tabular}\n"
      ],
      "text/markdown": [
       "**`SupervisedTask` summary**\n",
       "\n",
       "Learning task for the supervised task with input `TimeSeriesRow` and target `Continuous`. Compatible with `model`s that take in `TimeSeriesRow` and output `Continuous`.\n",
       "\n",
       "Encoding a sample (`encodesample(task, context, sample)`) is done through the following encodings:\n",
       "\n",
       "|                  Encoding |              Name |      `blocks.input` | `blocks.target` |\n",
       "| -------------------------:| -----------------:| -------------------:| ---------------:|\n",
       "|                           | `(input, target)` |     `TimeSeriesRow` |    `Continuous` |\n",
       "| `ContinuousPreprocessing` |                   |                     |                 |\n",
       "|         `TSPreprocessing` |          `(x, y)` | **`TimeSeriesRow`** |                 |\n"
      ],
      "text/plain": [
       "  \u001b[1m\u001b[36mSupervisedTask\u001b[39m summary\u001b[22m\n",
       "\n",
       "  Learning task for the supervised task with input \u001b[36mTimeSeriesRow\u001b[39m and target\n",
       "  \u001b[36mContinuous\u001b[39m. Compatible with \u001b[36mmodel\u001b[39ms that take in \u001b[36mTimeSeriesRow\u001b[39m and output\n",
       "  \u001b[36mContinuous\u001b[39m.\n",
       "\n",
       "  Encoding a sample (\u001b[36mencodesample(task, context, sample)\u001b[39m) is done through the\n",
       "  following encodings:\n",
       "\n",
       "                 Encoding            Name  \u001b[36mblocks.input\u001b[39m \u001b[36mblocks.target\u001b[39m\n",
       "  ––––––––––––––––––––––– ––––––––––––––– ––––––––––––– –––––––––––––\n",
       "                          \u001b[36m(input, target)\u001b[39m \u001b[36mTimeSeriesRow\u001b[39m    \u001b[36mContinuous\u001b[39m\n",
       "  \u001b[36mContinuousPreprocessing\u001b[39m                                            \n",
       "          \u001b[36mTSPreprocessing\u001b[39m          \u001b[36m(x, y)\u001b[39m \u001b[1m\u001b[36mTimeSeriesRow\u001b[39m\u001b[22m              "
      ]
     },
     "execution_count": 7,
     "metadata": {},
     "output_type": "execute_result"
    }
   ],
   "source": [
    "describetask(task)"
   ]
  },
  {
   "cell_type": "code",
   "execution_count": 8,
   "id": "5cc2bfa6",
   "metadata": {},
   "outputs": [
    {
     "data": {
      "text/plain": [
       "(Float32[1.25567 1.25567 … 1.4426183 1.5049348; -2.3630838 -2.4116828 … -2.3102949 -2.269237; … ; 0.14111246 0.14111246 … 0.14111246 0.14111246; -0.7532581 -0.7651869 … -0.57035017 -0.5783027], Float32[11.49])"
      ]
     },
     "execution_count": 8,
     "metadata": {},
     "output_type": "execute_result"
    }
   ],
   "source": [
    "encoded_sample = encodesample(task, Training(), sample)"
   ]
  },
  {
   "cell_type": "markdown",
   "id": "f8643baf",
   "metadata": {},
   "source": [
    "### Training"
   ]
  },
  {
   "cell_type": "markdown",
   "id": "8e96be2e",
   "metadata": {},
   "source": [
    "We will use an `InceptionTime` model for this task."
   ]
  },
  {
   "cell_type": "code",
   "execution_count": 9,
   "id": "184e33d4",
   "metadata": {},
   "outputs": [],
   "source": [
    "model = FastTimeSeries.Models.InceptionTime(24, 1);"
   ]
  },
  {
   "cell_type": "markdown",
   "id": "4743d473",
   "metadata": {},
   "source": [
    "We can `tasklossfn` to get a loss function suitable for our task."
   ]
  },
  {
   "cell_type": "code",
   "execution_count": 10,
   "id": "0f15f1d8",
   "metadata": {},
   "outputs": [
    {
     "data": {
      "text/plain": [
       "mse (generic function with 1 method)"
      ]
     },
     "execution_count": 10,
     "metadata": {},
     "output_type": "execute_result"
    }
   ],
   "source": [
    "lossfn = tasklossfn(task)"
   ]
  },
  {
   "cell_type": "markdown",
   "id": "be143f4f",
   "metadata": {},
   "source": [
    "Next we create a pair of training and validation data loaders. They take care of batching and loading the data in parallel in the background."
   ]
  },
  {
   "cell_type": "code",
   "execution_count": 11,
   "id": "c5f3bbd3",
   "metadata": {},
   "outputs": [],
   "source": [
    "traindl, validdl = taskdataloaders(data, task, 8);"
   ]
  },
  {
   "cell_type": "markdown",
   "id": "f3908266",
   "metadata": {},
   "source": [
    "We will use an `ADAM` optimzer for this task."
   ]
  },
  {
   "cell_type": "code",
   "execution_count": 12,
   "id": "3daa1e4f",
   "metadata": {},
   "outputs": [
    {
     "data": {
      "text/plain": [
       "ADAM(0.001, (0.9, 0.999), 1.0e-8, IdDict{Any, Any}())"
      ]
     },
     "execution_count": 12,
     "metadata": {},
     "output_type": "execute_result"
    }
   ],
   "source": [
    "optimizer = ADAM()"
   ]
  },
  {
   "cell_type": "markdown",
   "id": "6881557c",
   "metadata": {},
   "source": [
    "With the addition of an optimizer and a loss function, we can now create a Learner and start training."
   ]
  },
  {
   "cell_type": "code",
   "execution_count": 13,
   "id": "bfed9199",
   "metadata": {},
   "outputs": [],
   "source": [
    "learner = Learner(model, lossfn; data=(traindl, validdl), optimizer=optimizer, callbacks = [ToGPU()]);"
   ]
  },
  {
   "cell_type": "code",
   "execution_count": 14,
   "id": "f119acd0",
   "metadata": {},
   "outputs": [
    {
     "name": "stderr",
     "output_type": "stream",
     "text": [
      "┌ Info: The GPU function is being called but the GPU is not accessible. \n",
      "│ Defaulting back to the CPU. (No action is required if you want to run on the CPU).\n",
      "└ @ Flux /Users/saksham/.julia/packages/Flux/js6mP/src/functor.jl:192\n",
      "\u001b[32mEpoch 1 TrainingPhase(): 100%|██████████████████████████| Time: 0:01:40\u001b[39m\n"
     ]
    },
    {
     "name": "stdout",
     "output_type": "stream",
     "text": [
      "┌───────────────┬───────┬─────────┐\n",
      "│\u001b[1m         Phase \u001b[0m│\u001b[1m Epoch \u001b[0m│\u001b[1m    Loss \u001b[0m│\n",
      "├───────────────┼───────┼─────────┤\n",
      "│ TrainingPhase │   1.0 │ 142.689 │\n",
      "└───────────────┴───────┴─────────┘\n",
      "┌─────────────────┬───────┬─────────┐\n",
      "│\u001b[1m           Phase \u001b[0m│\u001b[1m Epoch \u001b[0m│\u001b[1m    Loss \u001b[0m│\n",
      "├─────────────────┼───────┼─────────┤\n",
      "│ ValidationPhase │   1.0 │ 9526.84 │\n",
      "└─────────────────┴───────┴─────────┘\n"
     ]
    },
    {
     "name": "stderr",
     "output_type": "stream",
     "text": [
      "\u001b[32mEpoch 2 TrainingPhase(): 100%|██████████████████████████| Time: 0:00:02\u001b[39m\n"
     ]
    },
    {
     "name": "stdout",
     "output_type": "stream",
     "text": [
      "┌───────────────┬───────┬─────────┐\n",
      "│\u001b[1m         Phase \u001b[0m│\u001b[1m Epoch \u001b[0m│\u001b[1m    Loss \u001b[0m│\n",
      "├───────────────┼───────┼─────────┤\n",
      "│ TrainingPhase │   2.0 │ 36.1776 │\n",
      "└───────────────┴───────┴─────────┘\n",
      "┌─────────────────┬───────┬─────────┐\n",
      "│\u001b[1m           Phase \u001b[0m│\u001b[1m Epoch \u001b[0m│\u001b[1m    Loss \u001b[0m│\n",
      "├─────────────────┼───────┼─────────┤\n",
      "│ ValidationPhase │   2.0 │ 2761.77 │\n",
      "└─────────────────┴───────┴─────────┘\n"
     ]
    },
    {
     "name": "stderr",
     "output_type": "stream",
     "text": [
      "\u001b[32mEpoch 3 TrainingPhase(): 100%|██████████████████████████| Time: 0:00:02\u001b[39m\n"
     ]
    },
    {
     "name": "stdout",
     "output_type": "stream",
     "text": [
      "┌───────────────┬───────┬─────────┐\n",
      "│\u001b[1m         Phase \u001b[0m│\u001b[1m Epoch \u001b[0m│\u001b[1m    Loss \u001b[0m│\n",
      "├───────────────┼───────┼─────────┤\n",
      "│ TrainingPhase │   3.0 │ 21.8786 │\n",
      "└───────────────┴───────┴─────────┘\n",
      "┌─────────────────┬───────┬─────────┐\n",
      "│\u001b[1m           Phase \u001b[0m│\u001b[1m Epoch \u001b[0m│\u001b[1m    Loss \u001b[0m│\n",
      "├─────────────────┼───────┼─────────┤\n",
      "│ ValidationPhase │   3.0 │ 2405.18 │\n",
      "└─────────────────┴───────┴─────────┘\n"
     ]
    },
    {
     "name": "stderr",
     "output_type": "stream",
     "text": [
      "\u001b[32mEpoch 4 TrainingPhase(): 100%|██████████████████████████| Time: 0:00:03\u001b[39m\n"
     ]
    },
    {
     "name": "stdout",
     "output_type": "stream",
     "text": [
      "┌───────────────┬───────┬─────────┐\n",
      "│\u001b[1m         Phase \u001b[0m│\u001b[1m Epoch \u001b[0m│\u001b[1m    Loss \u001b[0m│\n",
      "├───────────────┼───────┼─────────┤\n",
      "│ TrainingPhase │   4.0 │ 24.9655 │\n",
      "└───────────────┴───────┴─────────┘\n",
      "┌─────────────────┬───────┬─────────┐\n",
      "│\u001b[1m           Phase \u001b[0m│\u001b[1m Epoch \u001b[0m│\u001b[1m    Loss \u001b[0m│\n",
      "├─────────────────┼───────┼─────────┤\n",
      "│ ValidationPhase │   4.0 │ 581.368 │\n",
      "└─────────────────┴───────┴─────────┘\n"
     ]
    },
    {
     "name": "stderr",
     "output_type": "stream",
     "text": [
      "\u001b[32mEpoch 5 TrainingPhase(): 100%|██████████████████████████| Time: 0:00:02\u001b[39m\n"
     ]
    },
    {
     "name": "stdout",
     "output_type": "stream",
     "text": [
      "┌───────────────┬───────┬─────────┐\n",
      "│\u001b[1m         Phase \u001b[0m│\u001b[1m Epoch \u001b[0m│\u001b[1m    Loss \u001b[0m│\n",
      "├───────────────┼───────┼─────────┤\n",
      "│ TrainingPhase │   5.0 │ 22.4986 │\n",
      "└───────────────┴───────┴─────────┘\n",
      "┌─────────────────┬───────┬─────────┐\n",
      "│\u001b[1m           Phase \u001b[0m│\u001b[1m Epoch \u001b[0m│\u001b[1m    Loss \u001b[0m│\n",
      "├─────────────────┼───────┼─────────┤\n",
      "│ ValidationPhase │   5.0 │ 78.5748 │\n",
      "└─────────────────┴───────┴─────────┘\n"
     ]
    },
    {
     "name": "stderr",
     "output_type": "stream",
     "text": [
      "\u001b[32mEpoch 6 TrainingPhase(): 100%|██████████████████████████| Time: 0:00:02\u001b[39m\n"
     ]
    },
    {
     "name": "stdout",
     "output_type": "stream",
     "text": [
      "┌───────────────┬───────┬─────────┐\n",
      "│\u001b[1m         Phase \u001b[0m│\u001b[1m Epoch \u001b[0m│\u001b[1m    Loss \u001b[0m│\n",
      "├───────────────┼───────┼─────────┤\n",
      "│ TrainingPhase │   6.0 │ 17.6525 │\n",
      "└───────────────┴───────┴─────────┘\n",
      "┌─────────────────┬───────┬─────────┐\n",
      "│\u001b[1m           Phase \u001b[0m│\u001b[1m Epoch \u001b[0m│\u001b[1m    Loss \u001b[0m│\n",
      "├─────────────────┼───────┼─────────┤\n",
      "│ ValidationPhase │   6.0 │ 31.8414 │\n",
      "└─────────────────┴───────┴─────────┘\n"
     ]
    },
    {
     "name": "stderr",
     "output_type": "stream",
     "text": [
      "\u001b[32mEpoch 7 TrainingPhase(): 100%|██████████████████████████| Time: 0:00:02\u001b[39m\n"
     ]
    },
    {
     "name": "stdout",
     "output_type": "stream",
     "text": [
      "┌───────────────┬───────┬─────────┐\n",
      "│\u001b[1m         Phase \u001b[0m│\u001b[1m Epoch \u001b[0m│\u001b[1m    Loss \u001b[0m│\n",
      "├───────────────┼───────┼─────────┤\n",
      "│ TrainingPhase │   7.0 │ 16.7812 │\n",
      "└───────────────┴───────┴─────────┘\n",
      "┌─────────────────┬───────┬─────────┐\n",
      "│\u001b[1m           Phase \u001b[0m│\u001b[1m Epoch \u001b[0m│\u001b[1m    Loss \u001b[0m│\n",
      "├─────────────────┼───────┼─────────┤\n",
      "│ ValidationPhase │   7.0 │ 43.8513 │\n",
      "└─────────────────┴───────┴─────────┘\n"
     ]
    },
    {
     "name": "stderr",
     "output_type": "stream",
     "text": [
      "\u001b[32mEpoch 8 TrainingPhase(): 100%|██████████████████████████| Time: 0:00:02\u001b[39m\n"
     ]
    },
    {
     "name": "stdout",
     "output_type": "stream",
     "text": [
      "┌───────────────┬───────┬─────────┐\n",
      "│\u001b[1m         Phase \u001b[0m│\u001b[1m Epoch \u001b[0m│\u001b[1m    Loss \u001b[0m│\n",
      "├───────────────┼───────┼─────────┤\n",
      "│ TrainingPhase │   8.0 │ 18.4489 │\n",
      "└───────────────┴───────┴─────────┘\n",
      "┌─────────────────┬───────┬─────────┐\n",
      "│\u001b[1m           Phase \u001b[0m│\u001b[1m Epoch \u001b[0m│\u001b[1m    Loss \u001b[0m│\n",
      "├─────────────────┼───────┼─────────┤\n",
      "│ ValidationPhase │   8.0 │ 19.5717 │\n",
      "└─────────────────┴───────┴─────────┘\n"
     ]
    },
    {
     "name": "stderr",
     "output_type": "stream",
     "text": [
      "\u001b[32mEpoch 9 TrainingPhase(): 100%|██████████████████████████| Time: 0:00:02\u001b[39m\n"
     ]
    },
    {
     "name": "stdout",
     "output_type": "stream",
     "text": [
      "┌───────────────┬───────┬─────────┐\n",
      "│\u001b[1m         Phase \u001b[0m│\u001b[1m Epoch \u001b[0m│\u001b[1m    Loss \u001b[0m│\n",
      "├───────────────┼───────┼─────────┤\n",
      "│ TrainingPhase │   9.0 │ 17.3489 │\n",
      "└───────────────┴───────┴─────────┘\n",
      "┌─────────────────┬───────┬─────────┐\n",
      "│\u001b[1m           Phase \u001b[0m│\u001b[1m Epoch \u001b[0m│\u001b[1m    Loss \u001b[0m│\n",
      "├─────────────────┼───────┼─────────┤\n",
      "│ ValidationPhase │   9.0 │ 20.2309 │\n",
      "└─────────────────┴───────┴─────────┘\n"
     ]
    },
    {
     "name": "stderr",
     "output_type": "stream",
     "text": [
      "\u001b[32mEpoch 10 TrainingPhase(): 100%|█████████████████████████| Time: 0:00:02\u001b[39m\n"
     ]
    },
    {
     "name": "stdout",
     "output_type": "stream",
     "text": [
      "┌───────────────┬───────┬─────────┐\n",
      "│\u001b[1m         Phase \u001b[0m│\u001b[1m Epoch \u001b[0m│\u001b[1m    Loss \u001b[0m│\n",
      "├───────────────┼───────┼─────────┤\n",
      "│ TrainingPhase │  10.0 │ 13.0602 │\n",
      "└───────────────┴───────┴─────────┘\n",
      "┌─────────────────┬───────┬─────────┐\n",
      "│\u001b[1m           Phase \u001b[0m│\u001b[1m Epoch \u001b[0m│\u001b[1m    Loss \u001b[0m│\n",
      "├─────────────────┼───────┼─────────┤\n",
      "│ ValidationPhase │  10.0 │ 27.7731 │\n",
      "└─────────────────┴───────┴─────────┘\n"
     ]
    },
    {
     "name": "stderr",
     "output_type": "stream",
     "text": [
      "\u001b[32mEpoch 11 TrainingPhase(): 100%|█████████████████████████| Time: 0:00:04\u001b[39m\n"
     ]
    },
    {
     "name": "stdout",
     "output_type": "stream",
     "text": [
      "┌───────────────┬───────┬────────┐\n",
      "│\u001b[1m         Phase \u001b[0m│\u001b[1m Epoch \u001b[0m│\u001b[1m   Loss \u001b[0m│\n",
      "├───────────────┼───────┼────────┤\n",
      "│ TrainingPhase │  11.0 │ 17.051 │\n",
      "└───────────────┴───────┴────────┘\n",
      "┌─────────────────┬───────┬─────────┐\n",
      "│\u001b[1m           Phase \u001b[0m│\u001b[1m Epoch \u001b[0m│\u001b[1m    Loss \u001b[0m│\n",
      "├─────────────────┼───────┼─────────┤\n",
      "│ ValidationPhase │  11.0 │ 16.8113 │\n",
      "└─────────────────┴───────┴─────────┘\n"
     ]
    },
    {
     "name": "stderr",
     "output_type": "stream",
     "text": [
      "\u001b[32mEpoch 12 TrainingPhase(): 100%|█████████████████████████| Time: 0:00:04\u001b[39m\n"
     ]
    },
    {
     "name": "stdout",
     "output_type": "stream",
     "text": [
      "┌───────────────┬───────┬─────────┐\n",
      "│\u001b[1m         Phase \u001b[0m│\u001b[1m Epoch \u001b[0m│\u001b[1m    Loss \u001b[0m│\n",
      "├───────────────┼───────┼─────────┤\n",
      "│ TrainingPhase │  12.0 │ 12.0818 │\n",
      "└───────────────┴───────┴─────────┘\n",
      "┌─────────────────┬───────┬─────────┐\n",
      "│\u001b[1m           Phase \u001b[0m│\u001b[1m Epoch \u001b[0m│\u001b[1m    Loss \u001b[0m│\n",
      "├─────────────────┼───────┼─────────┤\n",
      "│ ValidationPhase │  12.0 │ 23.0781 │\n",
      "└─────────────────┴───────┴─────────┘\n"
     ]
    },
    {
     "name": "stderr",
     "output_type": "stream",
     "text": [
      "\u001b[32mEpoch 13 TrainingPhase(): 100%|█████████████████████████| Time: 0:00:03\u001b[39m\n"
     ]
    },
    {
     "name": "stdout",
     "output_type": "stream",
     "text": [
      "┌───────────────┬───────┬─────────┐\n",
      "│\u001b[1m         Phase \u001b[0m│\u001b[1m Epoch \u001b[0m│\u001b[1m    Loss \u001b[0m│\n",
      "├───────────────┼───────┼─────────┤\n",
      "│ TrainingPhase │  13.0 │ 14.9439 │\n",
      "└───────────────┴───────┴─────────┘\n",
      "┌─────────────────┬───────┬─────────┐\n",
      "│\u001b[1m           Phase \u001b[0m│\u001b[1m Epoch \u001b[0m│\u001b[1m    Loss \u001b[0m│\n",
      "├─────────────────┼───────┼─────────┤\n",
      "│ ValidationPhase │  13.0 │ 15.9388 │\n",
      "└─────────────────┴───────┴─────────┘\n"
     ]
    },
    {
     "name": "stderr",
     "output_type": "stream",
     "text": [
      "\u001b[32mEpoch 14 TrainingPhase(): 100%|█████████████████████████| Time: 0:00:03\u001b[39m\n"
     ]
    },
    {
     "name": "stdout",
     "output_type": "stream",
     "text": [
      "┌───────────────┬───────┬────────┐\n",
      "│\u001b[1m         Phase \u001b[0m│\u001b[1m Epoch \u001b[0m│\u001b[1m   Loss \u001b[0m│\n",
      "├───────────────┼───────┼────────┤\n",
      "│ TrainingPhase │  14.0 │ 13.336 │\n",
      "└───────────────┴───────┴────────┘\n",
      "┌─────────────────┬───────┬─────────┐\n",
      "│\u001b[1m           Phase \u001b[0m│\u001b[1m Epoch \u001b[0m│\u001b[1m    Loss \u001b[0m│\n",
      "├─────────────────┼───────┼─────────┤\n",
      "│ ValidationPhase │  14.0 │ 15.2863 │\n",
      "└─────────────────┴───────┴─────────┘\n"
     ]
    },
    {
     "name": "stderr",
     "output_type": "stream",
     "text": [
      "\u001b[32mEpoch 15 TrainingPhase(): 100%|█████████████████████████| Time: 0:00:03\u001b[39m\n"
     ]
    },
    {
     "name": "stdout",
     "output_type": "stream",
     "text": [
      "┌───────────────┬───────┬─────────┐\n",
      "│\u001b[1m         Phase \u001b[0m│\u001b[1m Epoch \u001b[0m│\u001b[1m    Loss \u001b[0m│\n",
      "├───────────────┼───────┼─────────┤\n",
      "│ TrainingPhase │  15.0 │ 11.6416 │\n",
      "└───────────────┴───────┴─────────┘\n",
      "┌─────────────────┬───────┬─────────┐\n",
      "│\u001b[1m           Phase \u001b[0m│\u001b[1m Epoch \u001b[0m│\u001b[1m    Loss \u001b[0m│\n",
      "├─────────────────┼───────┼─────────┤\n",
      "│ ValidationPhase │  15.0 │ 17.4399 │\n",
      "└─────────────────┴───────┴─────────┘\n"
     ]
    },
    {
     "name": "stderr",
     "output_type": "stream",
     "text": [
      "\u001b[32mEpoch 16 TrainingPhase(): 100%|█████████████████████████| Time: 0:00:03\u001b[39m\n"
     ]
    },
    {
     "name": "stdout",
     "output_type": "stream",
     "text": [
      "┌───────────────┬───────┬────────┐\n",
      "│\u001b[1m         Phase \u001b[0m│\u001b[1m Epoch \u001b[0m│\u001b[1m   Loss \u001b[0m│\n",
      "├───────────────┼───────┼────────┤\n",
      "│ TrainingPhase │  16.0 │ 9.8485 │\n",
      "└───────────────┴───────┴────────┘\n",
      "┌─────────────────┬───────┬─────────┐\n",
      "│\u001b[1m           Phase \u001b[0m│\u001b[1m Epoch \u001b[0m│\u001b[1m    Loss \u001b[0m│\n",
      "├─────────────────┼───────┼─────────┤\n",
      "│ ValidationPhase │  16.0 │ 15.5438 │\n",
      "└─────────────────┴───────┴─────────┘\n"
     ]
    },
    {
     "name": "stderr",
     "output_type": "stream",
     "text": [
      "\u001b[32mEpoch 17 TrainingPhase(): 100%|█████████████████████████| Time: 0:00:03\u001b[39m\n"
     ]
    },
    {
     "name": "stdout",
     "output_type": "stream",
     "text": [
      "┌───────────────┬───────┬─────────┐\n",
      "│\u001b[1m         Phase \u001b[0m│\u001b[1m Epoch \u001b[0m│\u001b[1m    Loss \u001b[0m│\n",
      "├───────────────┼───────┼─────────┤\n",
      "│ TrainingPhase │  17.0 │ 9.37123 │\n",
      "└───────────────┴───────┴─────────┘\n",
      "┌─────────────────┬───────┬─────────┐\n",
      "│\u001b[1m           Phase \u001b[0m│\u001b[1m Epoch \u001b[0m│\u001b[1m    Loss \u001b[0m│\n",
      "├─────────────────┼───────┼─────────┤\n",
      "│ ValidationPhase │  17.0 │ 15.5285 │\n",
      "└─────────────────┴───────┴─────────┘\n"
     ]
    },
    {
     "name": "stderr",
     "output_type": "stream",
     "text": [
      "\u001b[32mEpoch 18 TrainingPhase(): 100%|█████████████████████████| Time: 0:00:03\u001b[39m\n"
     ]
    },
    {
     "name": "stdout",
     "output_type": "stream",
     "text": [
      "┌───────────────┬───────┬─────────┐\n",
      "│\u001b[1m         Phase \u001b[0m│\u001b[1m Epoch \u001b[0m│\u001b[1m    Loss \u001b[0m│\n",
      "├───────────────┼───────┼─────────┤\n",
      "│ TrainingPhase │  18.0 │ 10.1838 │\n",
      "└───────────────┴───────┴─────────┘\n",
      "┌─────────────────┬───────┬─────────┐\n",
      "│\u001b[1m           Phase \u001b[0m│\u001b[1m Epoch \u001b[0m│\u001b[1m    Loss \u001b[0m│\n",
      "├─────────────────┼───────┼─────────┤\n",
      "│ ValidationPhase │  18.0 │ 14.4063 │\n",
      "└─────────────────┴───────┴─────────┘\n"
     ]
    },
    {
     "name": "stderr",
     "output_type": "stream",
     "text": [
      "\u001b[32mEpoch 19 TrainingPhase(): 100%|█████████████████████████| Time: 0:00:03\u001b[39m\n"
     ]
    },
    {
     "name": "stdout",
     "output_type": "stream",
     "text": [
      "┌───────────────┬───────┬─────────┐\n",
      "│\u001b[1m         Phase \u001b[0m│\u001b[1m Epoch \u001b[0m│\u001b[1m    Loss \u001b[0m│\n",
      "├───────────────┼───────┼─────────┤\n",
      "│ TrainingPhase │  19.0 │ 9.74364 │\n",
      "└───────────────┴───────┴─────────┘\n",
      "┌─────────────────┬───────┬────────┐\n",
      "│\u001b[1m           Phase \u001b[0m│\u001b[1m Epoch \u001b[0m│\u001b[1m   Loss \u001b[0m│\n",
      "├─────────────────┼───────┼────────┤\n",
      "│ ValidationPhase │  19.0 │ 14.059 │\n",
      "└─────────────────┴───────┴────────┘\n"
     ]
    },
    {
     "name": "stderr",
     "output_type": "stream",
     "text": [
      "\u001b[32mEpoch 20 TrainingPhase(): 100%|█████████████████████████| Time: 0:00:03\u001b[39m\n"
     ]
    },
    {
     "name": "stdout",
     "output_type": "stream",
     "text": [
      "┌───────────────┬───────┬─────────┐\n",
      "│\u001b[1m         Phase \u001b[0m│\u001b[1m Epoch \u001b[0m│\u001b[1m    Loss \u001b[0m│\n",
      "├───────────────┼───────┼─────────┤\n",
      "│ TrainingPhase │  20.0 │ 8.15523 │\n",
      "└───────────────┴───────┴─────────┘\n",
      "┌─────────────────┬───────┬─────────┐\n",
      "│\u001b[1m           Phase \u001b[0m│\u001b[1m Epoch \u001b[0m│\u001b[1m    Loss \u001b[0m│\n",
      "├─────────────────┼───────┼─────────┤\n",
      "│ ValidationPhase │  20.0 │ 15.6445 │\n",
      "└─────────────────┴───────┴─────────┘\n"
     ]
    }
   ],
   "source": [
    "fitonecycle!(learner, 20, 0.03)"
   ]
  },
  {
   "cell_type": "markdown",
   "id": "452ab9bf",
   "metadata": {},
   "source": [
    "We can save the model for later inference using `savetaskmodel`"
   ]
  },
  {
   "cell_type": "code",
   "execution_count": 15,
   "id": "3c8337e8",
   "metadata": {},
   "outputs": [],
   "source": [
    "savetaskmodel(\"tsregression.jld2\", task, learner.model; force = true)"
   ]
  },
  {
   "cell_type": "code",
   "execution_count": null,
   "id": "41c73d6e",
   "metadata": {},
   "outputs": [],
   "source": []
  }
 ],
 "metadata": {
  "kernelspec": {
   "display_name": "Julia 1.7.3",
   "language": "julia",
   "name": "julia-1.7"
  },
  "language_info": {
   "file_extension": ".jl",
   "mimetype": "application/julia",
   "name": "julia",
   "version": "1.7.3"
  }
 },
 "nbformat": 4,
 "nbformat_minor": 5
}

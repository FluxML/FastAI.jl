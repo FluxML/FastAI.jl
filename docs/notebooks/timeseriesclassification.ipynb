{
 "cells": [
  {
   "cell_type": "code",
   "execution_count": 1,
   "id": "c83aa3af",
   "metadata": {},
   "outputs": [
    {
     "name": "stderr",
     "output_type": "stream",
     "text": [
      "\u001b[32m\u001b[1m  Activating\u001b[22m\u001b[39m project at `~/Desktop/dev/FastAI.jl`\n"
     ]
    }
   ],
   "source": [
    "using Pkg\n",
    "Pkg.activate(\"../../FastAI.jl/\")\n",
    "Pkg.instantiate()"
   ]
  },
  {
   "cell_type": "code",
   "execution_count": 2,
   "id": "5e24a08b",
   "metadata": {},
   "outputs": [],
   "source": [
    "using Flux"
   ]
  },
  {
   "cell_type": "code",
   "execution_count": 2,
   "id": "7e4529e7",
   "metadata": {},
   "outputs": [
    {
     "name": "stderr",
     "output_type": "stream",
     "text": [
      "┌ Info: Precompiling FastAI [5d0beca9-ade8-49ae-ad0b-a3cf890e669f]\n",
      "└ @ Base loading.jl:1423\n",
      "┌ Info: Precompiling FastTimeSeries [5337c758-7610-4451-a331-8357b11df7c6]\n",
      "└ @ Base loading.jl:1423\n"
     ]
    }
   ],
   "source": [
    "using FastAI, FastTimeSeries, Flux"
   ]
  },
  {
   "cell_type": "markdown",
   "id": "4c360908",
   "metadata": {},
   "source": [
    "# TimeSeries Classification"
   ]
  },
  {
   "cell_type": "code",
   "execution_count": 3,
   "id": "c4420a53",
   "metadata": {},
   "outputs": [],
   "source": [
    "data, blocks = load(datarecipes()[\"ecg5000\"]);"
   ]
  },
  {
   "cell_type": "markdown",
   "id": "8ba5f855",
   "metadata": {},
   "source": [
    "`getobs` gets us a sample from the TimeSeriesDataset. It returns a tuple with the input time series and the correspodning label."
   ]
  },
  {
   "cell_type": "code",
   "execution_count": 4,
   "id": "ece7f2ff",
   "metadata": {},
   "outputs": [
    {
     "data": {
      "text/plain": [
       "(Float32[-0.28834122 -2.2725453 … 1.722784 1.2959242], \"1\")"
      ]
     },
     "execution_count": 4,
     "metadata": {},
     "output_type": "execute_result"
    }
   ],
   "source": [
    "input, class = sample = getobs(data, 25)"
   ]
  },
  {
   "cell_type": "markdown",
   "id": "a31c504f",
   "metadata": {},
   "source": [
    "Now we create a learning task for time-series classification. This means using the time-series to predict labels. We will use the `TimeSeriesRow` block as input and `Label` block as the target."
   ]
  },
  {
   "cell_type": "code",
   "execution_count": 5,
   "id": "0db48723",
   "metadata": {},
   "outputs": [
    {
     "data": {
      "text/plain": [
       "SupervisedTask(TimeSeriesRow -> Label{SubString{String}})"
      ]
     },
     "execution_count": 5,
     "metadata": {},
     "output_type": "execute_result"
    }
   ],
   "source": [
    "task = SupervisedTask(\n",
    "    blocks,\n",
    "    (\n",
    "        OneHot(),\n",
    "        setup(TSPreprocessing, blocks[1], data[1].table)\n",
    "    )\n",
    ")"
   ]
  },
  {
   "cell_type": "markdown",
   "id": "e7b83d74",
   "metadata": {},
   "source": [
    "The encodings passed in transform samples into formats suitable as inputs and outputs for a model"
   ]
  },
  {
   "cell_type": "markdown",
   "id": "78f8c144",
   "metadata": {},
   "source": [
    "Let's check that samples from the created data container conform to the blocks of the learning task:"
   ]
  },
  {
   "cell_type": "code",
   "execution_count": 6,
   "id": "b9f2158a",
   "metadata": {},
   "outputs": [
    {
     "data": {
      "text/plain": [
       "true"
      ]
     },
     "execution_count": 6,
     "metadata": {},
     "output_type": "execute_result"
    }
   ],
   "source": [
    "checkblock(task.blocks.sample, sample)"
   ]
  },
  {
   "cell_type": "markdown",
   "id": "38e65919",
   "metadata": {},
   "source": [
    "To get an overview of the learning task created, and as a sanity test, we can use describetask. This shows us what encodings will be applied to which blocks, and how the predicted ŷ values are decoded."
   ]
  },
  {
   "cell_type": "code",
   "execution_count": 7,
   "id": "8ed71038",
   "metadata": {},
   "outputs": [
    {
     "data": {
      "text/latex": [
       "\\textbf{\\texttt{SupervisedTask} summary}\n",
       "\n",
       "Learning task for the supervised task with input \\texttt{TimeSeriesRow} and target \\texttt{Label\\{SubString\\{String\\}\\}}. Compatible with \\texttt{model}s that take in \\texttt{TimeSeriesRow} and output \\texttt{OneHotLabel\\{SubString\\{String\\}\\}}.\n",
       "\n",
       "Encoding a sample (\\texttt{encodesample(task, context, sample)}) is done through the following encodings:\n",
       "\n",
       "\\begin{tabular}\n",
       "{r | r | r | r}\n",
       "Encoding & Name & \\texttt{blocks.input} & \\texttt{blocks.target} \\\\\n",
       "\\hline\n",
       " & \\texttt{(input, target)} & \\texttt{TimeSeriesRow} & \\texttt{Label\\{SubString\\{String\\}\\}} \\\\\n",
       "\\texttt{OneHot} &  &  & \\textbf{\\texttt{OneHotLabel\\{SubString\\{String\\}\\}}} \\\\\n",
       "\\texttt{TSPreprocessing} & \\texttt{(x, y)} & \\textbf{\\texttt{TimeSeriesRow}} &  \\\\\n",
       "\\end{tabular}\n"
      ],
      "text/markdown": [
       "**`SupervisedTask` summary**\n",
       "\n",
       "Learning task for the supervised task with input `TimeSeriesRow` and target `Label{SubString{String}}`. Compatible with `model`s that take in `TimeSeriesRow` and output `OneHotLabel{SubString{String}}`.\n",
       "\n",
       "Encoding a sample (`encodesample(task, context, sample)`) is done through the following encodings:\n",
       "\n",
       "|          Encoding |              Name |      `blocks.input` |                      `blocks.target` |\n",
       "| -----------------:| -----------------:| -------------------:| ------------------------------------:|\n",
       "|                   | `(input, target)` |     `TimeSeriesRow` |           `Label{SubString{String}}` |\n",
       "|          `OneHot` |                   |                     | **`OneHotLabel{SubString{String}}`** |\n",
       "| `TSPreprocessing` |          `(x, y)` | **`TimeSeriesRow`** |                                      |\n"
      ],
      "text/plain": [
       "  \u001b[1m\u001b[36mSupervisedTask\u001b[39m summary\u001b[22m\n",
       "\n",
       "  Learning task for the supervised task with input \u001b[36mTimeSeriesRow\u001b[39m and target\n",
       "  \u001b[36mLabel{SubString{String}}\u001b[39m. Compatible with \u001b[36mmodel\u001b[39ms that take in \u001b[36mTimeSeriesRow\u001b[39m\n",
       "  and output \u001b[36mOneHotLabel{SubString{String}}\u001b[39m.\n",
       "\n",
       "  Encoding a sample (\u001b[36mencodesample(task, context, sample)\u001b[39m) is done through the\n",
       "  following encodings:\n",
       "\n",
       "         Encoding            Name  \u001b[36mblocks.input\u001b[39m                  \u001b[36mblocks.target\u001b[39m\n",
       "  ––––––––––––––– ––––––––––––––– ––––––––––––– ––––––––––––––––––––––––––––––\n",
       "                  \u001b[36m(input, target)\u001b[39m \u001b[36mTimeSeriesRow\u001b[39m       \u001b[36mLabel{SubString{String}}\u001b[39m\n",
       "           \u001b[36mOneHot\u001b[39m                               \u001b[1m\u001b[36mOneHotLabel{SubString{String}}\u001b[39m\u001b[22m\n",
       "  \u001b[36mTSPreprocessing\u001b[39m          \u001b[36m(x, y)\u001b[39m \u001b[1m\u001b[36mTimeSeriesRow\u001b[39m\u001b[22m                               "
      ]
     },
     "execution_count": 7,
     "metadata": {},
     "output_type": "execute_result"
    }
   ],
   "source": [
    "describetask(task)"
   ]
  },
  {
   "cell_type": "code",
   "execution_count": 8,
   "id": "1d591875",
   "metadata": {},
   "outputs": [
    {
     "data": {
      "text/plain": [
       "(Float32[-0.28937635 -2.2807038 … 1.7289687 1.3005764], Bool[1, 0, 0, 0, 0])"
      ]
     },
     "execution_count": 8,
     "metadata": {},
     "output_type": "execute_result"
    }
   ],
   "source": [
    "encoded_sample = encodesample(task, Training(), sample)"
   ]
  },
  {
   "cell_type": "markdown",
   "id": "0dd4d4da",
   "metadata": {},
   "source": [
    "### Visualization Tools for TimeSeries"
   ]
  },
  {
   "cell_type": "code",
   "execution_count": 9,
   "id": "faa0716f",
   "metadata": {},
   "outputs": [
    {
     "data": {
      "text/plain": [
       "(Float32[-0.11252183 -2.8272038 … 0.92528623 0.19313742], \"1\")"
      ]
     },
     "execution_count": 9,
     "metadata": {},
     "output_type": "execute_result"
    }
   ],
   "source": [
    "sample = getobs(data, 1)"
   ]
  },
  {
   "cell_type": "code",
   "execution_count": null,
   "id": "249ca5d5",
   "metadata": {},
   "outputs": [],
   "source": [
    "showsample(task, sample)"
   ]
  },
  {
   "cell_type": "code",
   "execution_count": null,
   "id": "601990da",
   "metadata": {},
   "outputs": [],
   "source": [
    "showblock(blocks[1], sample[1])"
   ]
  },
  {
   "cell_type": "markdown",
   "id": "39d96203",
   "metadata": {},
   "source": [
    "### Training"
   ]
  },
  {
   "cell_type": "markdown",
   "id": "904b451b",
   "metadata": {},
   "source": [
    "We will use a StackedLSTM as a backbone model, and a Dense layer at the front for classification. `taskmodel` knows how to do this by looking at the datablocks used. "
   ]
  },
  {
   "cell_type": "code",
   "execution_count": 13,
   "id": "fed9610b",
   "metadata": {},
   "outputs": [],
   "source": [
    "backbone = FastTimeSeries.Models.StackedLSTM(1, 16, 10, 2);"
   ]
  },
  {
   "cell_type": "code",
   "execution_count": 15,
   "id": "d60848d0",
   "metadata": {},
   "outputs": [],
   "source": [
    "model = FastAI.taskmodel(task, backbone);"
   ]
  },
  {
   "cell_type": "markdown",
   "id": "68c4e730",
   "metadata": {},
   "source": [
    "We can `tasklossfn` to get a loss function suitable for our task."
   ]
  },
  {
   "cell_type": "code",
   "execution_count": 16,
   "id": "d5b69c5e",
   "metadata": {},
   "outputs": [
    {
     "data": {
      "text/plain": [
       "logitcrossentropy (generic function with 1 method)"
      ]
     },
     "execution_count": 16,
     "metadata": {},
     "output_type": "execute_result"
    }
   ],
   "source": [
    "lossfn = tasklossfn(task)"
   ]
  },
  {
   "cell_type": "markdown",
   "id": "f8d2f260",
   "metadata": {},
   "source": [
    "Next we create a pair of training and validation data loaders. They take care of batching and loading the data in parallel in the background."
   ]
  },
  {
   "cell_type": "code",
   "execution_count": 17,
   "id": "e82a176e",
   "metadata": {},
   "outputs": [],
   "source": [
    "traindl, validdl = taskdataloaders(data, task, 16);"
   ]
  },
  {
   "cell_type": "markdown",
   "id": "ec9994f1",
   "metadata": {},
   "source": [
    "We will use an `Adam` optimzer for this task."
   ]
  },
  {
   "cell_type": "code",
   "execution_count": 18,
   "id": "de471de5",
   "metadata": {},
   "outputs": [
    {
     "data": {
      "text/plain": [
       "ADAM(0.002, (0.9, 0.999), 1.0e-8, IdDict{Any, Any}())"
      ]
     },
     "execution_count": 18,
     "metadata": {},
     "output_type": "execute_result"
    }
   ],
   "source": [
    "optimizer = ADAM(0.002)"
   ]
  },
  {
   "cell_type": "markdown",
   "id": "9de021f7",
   "metadata": {},
   "source": [
    "We create callbacks to get the accuracy during the training"
   ]
  },
  {
   "cell_type": "code",
   "execution_count": 19,
   "id": "e4850e19",
   "metadata": {},
   "outputs": [],
   "source": [
    "callbacks = [ToGPU(), Metrics(accuracy)];"
   ]
  },
  {
   "cell_type": "markdown",
   "id": "9e1a419e",
   "metadata": {},
   "source": [
    "With the addition of an optimizer and a loss function, we can now create a Learner and start training. "
   ]
  },
  {
   "cell_type": "code",
   "execution_count": 20,
   "id": "cfb0a06d",
   "metadata": {},
   "outputs": [],
   "source": [
    "learner = Learner(model, lossfn; data=(traindl, validdl), optimizer=optimizer, callbacks = callbacks);"
   ]
  },
  {
   "cell_type": "code",
   "execution_count": 21,
   "id": "11f4f1bb",
   "metadata": {},
   "outputs": [
    {
     "name": "stderr",
     "output_type": "stream",
     "text": [
      "┌ Info: The GPU function is being called but the GPU is not accessible. \n",
      "│ Defaulting back to the CPU. (No action is required if you want to run on the CPU).\n",
      "└ @ Flux /Users/saksham/.julia/packages/Flux/js6mP/src/functor.jl:192\n",
      "\u001b[32mEpoch 1 TrainingPhase(): 100%|██████████████████████████| Time: 0:00:40\u001b[39m\n"
     ]
    },
    {
     "name": "stdout",
     "output_type": "stream",
     "text": [
      "┌───────────────┬───────┬─────────┬──────────┐\n",
      "│\u001b[1m         Phase \u001b[0m│\u001b[1m Epoch \u001b[0m│\u001b[1m    Loss \u001b[0m│\u001b[1m Accuracy \u001b[0m│\n",
      "├───────────────┼───────┼─────────┼──────────┤\n",
      "│ TrainingPhase │   1.0 │ 0.95453 │  0.65725 │\n",
      "└───────────────┴───────┴─────────┴──────────┘\n"
     ]
    },
    {
     "name": "stderr",
     "output_type": "stream",
     "text": [
      "\u001b[32mEpoch 1 ValidationPhase(): 100%|████████████████████████| Time: 0:00:00\u001b[39m\n"
     ]
    },
    {
     "name": "stdout",
     "output_type": "stream",
     "text": [
      "┌─────────────────┬───────┬─────────┬──────────┐\n",
      "│\u001b[1m           Phase \u001b[0m│\u001b[1m Epoch \u001b[0m│\u001b[1m    Loss \u001b[0m│\u001b[1m Accuracy \u001b[0m│\n",
      "├─────────────────┼───────┼─────────┼──────────┤\n",
      "│ ValidationPhase │   1.0 │ 0.36429 │   0.9082 │\n",
      "└─────────────────┴───────┴─────────┴──────────┘\n"
     ]
    },
    {
     "name": "stderr",
     "output_type": "stream",
     "text": [
      "\u001b[32mEpoch 2 TrainingPhase(): 100%|██████████████████████████| Time: 0:00:03\u001b[39m\n"
     ]
    },
    {
     "name": "stdout",
     "output_type": "stream",
     "text": [
      "┌───────────────┬───────┬─────────┬──────────┐\n",
      "│\u001b[1m         Phase \u001b[0m│\u001b[1m Epoch \u001b[0m│\u001b[1m    Loss \u001b[0m│\u001b[1m Accuracy \u001b[0m│\n",
      "├───────────────┼───────┼─────────┼──────────┤\n",
      "│ TrainingPhase │   2.0 │ 0.30034 │   0.9205 │\n",
      "└───────────────┴───────┴─────────┴──────────┘\n"
     ]
    },
    {
     "name": "stderr",
     "output_type": "stream",
     "text": [
      "\u001b[32mEpoch 2 ValidationPhase(): 100%|████████████████████████| Time: 0:00:00\u001b[39m\n"
     ]
    },
    {
     "name": "stdout",
     "output_type": "stream",
     "text": [
      "┌─────────────────┬───────┬─────────┬──────────┐\n",
      "│\u001b[1m           Phase \u001b[0m│\u001b[1m Epoch \u001b[0m│\u001b[1m    Loss \u001b[0m│\u001b[1m Accuracy \u001b[0m│\n",
      "├─────────────────┼───────┼─────────┼──────────┤\n",
      "│ ValidationPhase │   2.0 │ 0.28543 │  0.91211 │\n",
      "└─────────────────┴───────┴─────────┴──────────┘\n"
     ]
    },
    {
     "name": "stderr",
     "output_type": "stream",
     "text": [
      "\u001b[32mEpoch 3 TrainingPhase(): 100%|██████████████████████████| Time: 0:00:03\u001b[39m\n"
     ]
    },
    {
     "name": "stdout",
     "output_type": "stream",
     "text": [
      "┌───────────────┬───────┬────────┬──────────┐\n",
      "│\u001b[1m         Phase \u001b[0m│\u001b[1m Epoch \u001b[0m│\u001b[1m   Loss \u001b[0m│\u001b[1m Accuracy \u001b[0m│\n",
      "├───────────────┼───────┼────────┼──────────┤\n",
      "│ TrainingPhase │   3.0 │ 0.2677 │  0.92825 │\n",
      "└───────────────┴───────┴────────┴──────────┘\n"
     ]
    },
    {
     "name": "stderr",
     "output_type": "stream",
     "text": [
      "\u001b[32mEpoch 3 ValidationPhase(): 100%|████████████████████████| Time: 0:00:00\u001b[39m\n"
     ]
    },
    {
     "name": "stdout",
     "output_type": "stream",
     "text": [
      "┌─────────────────┬───────┬─────────┬──────────┐\n",
      "│\u001b[1m           Phase \u001b[0m│\u001b[1m Epoch \u001b[0m│\u001b[1m    Loss \u001b[0m│\u001b[1m Accuracy \u001b[0m│\n",
      "├─────────────────┼───────┼─────────┼──────────┤\n",
      "│ ValidationPhase │   3.0 │ 0.26776 │  0.91895 │\n",
      "└─────────────────┴───────┴─────────┴──────────┘\n"
     ]
    },
    {
     "name": "stderr",
     "output_type": "stream",
     "text": [
      "\u001b[32mEpoch 4 TrainingPhase(): 100%|██████████████████████████| Time: 0:00:03\u001b[39m\n"
     ]
    },
    {
     "name": "stdout",
     "output_type": "stream",
     "text": [
      "┌───────────────┬───────┬─────────┬──────────┐\n",
      "│\u001b[1m         Phase \u001b[0m│\u001b[1m Epoch \u001b[0m│\u001b[1m    Loss \u001b[0m│\u001b[1m Accuracy \u001b[0m│\n",
      "├───────────────┼───────┼─────────┼──────────┤\n",
      "│ TrainingPhase │   4.0 │ 0.23461 │   0.9355 │\n",
      "└───────────────┴───────┴─────────┴──────────┘\n"
     ]
    },
    {
     "name": "stderr",
     "output_type": "stream",
     "text": [
      "\u001b[32mEpoch 4 ValidationPhase(): 100%|████████████████████████| Time: 0:00:00\u001b[39m\n"
     ]
    },
    {
     "name": "stdout",
     "output_type": "stream",
     "text": [
      "┌─────────────────┬───────┬─────────┬──────────┐\n",
      "│\u001b[1m           Phase \u001b[0m│\u001b[1m Epoch \u001b[0m│\u001b[1m    Loss \u001b[0m│\u001b[1m Accuracy \u001b[0m│\n",
      "├─────────────────┼───────┼─────────┼──────────┤\n",
      "│ ValidationPhase │   4.0 │ 0.27086 │  0.92285 │\n",
      "└─────────────────┴───────┴─────────┴──────────┘\n"
     ]
    },
    {
     "name": "stderr",
     "output_type": "stream",
     "text": [
      "\u001b[32mEpoch 5 TrainingPhase(): 100%|██████████████████████████| Time: 0:00:03\u001b[39m\n"
     ]
    },
    {
     "name": "stdout",
     "output_type": "stream",
     "text": [
      "┌───────────────┬───────┬─────────┬──────────┐\n",
      "│\u001b[1m         Phase \u001b[0m│\u001b[1m Epoch \u001b[0m│\u001b[1m    Loss \u001b[0m│\u001b[1m Accuracy \u001b[0m│\n",
      "├───────────────┼───────┼─────────┼──────────┤\n",
      "│ TrainingPhase │   5.0 │ 0.22571 │   0.9375 │\n",
      "└───────────────┴───────┴─────────┴──────────┘\n"
     ]
    },
    {
     "name": "stderr",
     "output_type": "stream",
     "text": [
      "\u001b[32mEpoch 5 ValidationPhase(): 100%|████████████████████████| Time: 0:00:00\u001b[39m\n"
     ]
    },
    {
     "name": "stdout",
     "output_type": "stream",
     "text": [
      "┌─────────────────┬───────┬─────────┬──────────┐\n",
      "│\u001b[1m           Phase \u001b[0m│\u001b[1m Epoch \u001b[0m│\u001b[1m    Loss \u001b[0m│\u001b[1m Accuracy \u001b[0m│\n",
      "├─────────────────┼───────┼─────────┼──────────┤\n",
      "│ ValidationPhase │   5.0 │ 0.24774 │  0.93457 │\n",
      "└─────────────────┴───────┴─────────┴──────────┘\n"
     ]
    },
    {
     "name": "stderr",
     "output_type": "stream",
     "text": [
      "\u001b[32mEpoch 6 TrainingPhase(): 100%|██████████████████████████| Time: 0:00:03\u001b[39m\n"
     ]
    },
    {
     "name": "stdout",
     "output_type": "stream",
     "text": [
      "┌───────────────┬───────┬─────────┬──────────┐\n",
      "│\u001b[1m         Phase \u001b[0m│\u001b[1m Epoch \u001b[0m│\u001b[1m    Loss \u001b[0m│\u001b[1m Accuracy \u001b[0m│\n",
      "├───────────────┼───────┼─────────┼──────────┤\n",
      "│ TrainingPhase │   6.0 │ 0.21649 │   0.9385 │\n",
      "└───────────────┴───────┴─────────┴──────────┘\n"
     ]
    },
    {
     "name": "stderr",
     "output_type": "stream",
     "text": [
      "\u001b[32mEpoch 6 ValidationPhase(): 100%|████████████████████████| Time: 0:00:00\u001b[39m\n"
     ]
    },
    {
     "name": "stdout",
     "output_type": "stream",
     "text": [
      "┌─────────────────┬───────┬─────────┬──────────┐\n",
      "│\u001b[1m           Phase \u001b[0m│\u001b[1m Epoch \u001b[0m│\u001b[1m    Loss \u001b[0m│\u001b[1m Accuracy \u001b[0m│\n",
      "├─────────────────┼───────┼─────────┼──────────┤\n",
      "│ ValidationPhase │   6.0 │ 0.24026 │  0.93359 │\n",
      "└─────────────────┴───────┴─────────┴──────────┘\n"
     ]
    },
    {
     "name": "stderr",
     "output_type": "stream",
     "text": [
      "\u001b[32mEpoch 7 TrainingPhase(): 100%|██████████████████████████| Time: 0:00:03\u001b[39m\n"
     ]
    },
    {
     "name": "stdout",
     "output_type": "stream",
     "text": [
      "┌───────────────┬───────┬─────────┬──────────┐\n",
      "│\u001b[1m         Phase \u001b[0m│\u001b[1m Epoch \u001b[0m│\u001b[1m    Loss \u001b[0m│\u001b[1m Accuracy \u001b[0m│\n",
      "├───────────────┼───────┼─────────┼──────────┤\n",
      "│ TrainingPhase │   7.0 │ 0.21095 │  0.93825 │\n",
      "└───────────────┴───────┴─────────┴──────────┘\n"
     ]
    },
    {
     "name": "stderr",
     "output_type": "stream",
     "text": [
      "\u001b[32mEpoch 7 ValidationPhase(): 100%|████████████████████████| Time: 0:00:00\u001b[39m\n"
     ]
    },
    {
     "name": "stdout",
     "output_type": "stream",
     "text": [
      "┌─────────────────┬───────┬─────────┬──────────┐\n",
      "│\u001b[1m           Phase \u001b[0m│\u001b[1m Epoch \u001b[0m│\u001b[1m    Loss \u001b[0m│\u001b[1m Accuracy \u001b[0m│\n",
      "├─────────────────┼───────┼─────────┼──────────┤\n",
      "│ ValidationPhase │   7.0 │ 0.23704 │  0.93262 │\n",
      "└─────────────────┴───────┴─────────┴──────────┘\n"
     ]
    },
    {
     "name": "stderr",
     "output_type": "stream",
     "text": [
      "\u001b[32mEpoch 8 TrainingPhase(): 100%|██████████████████████████| Time: 0:00:03\u001b[39m\n"
     ]
    },
    {
     "name": "stdout",
     "output_type": "stream",
     "text": [
      "┌───────────────┬───────┬─────────┬──────────┐\n",
      "│\u001b[1m         Phase \u001b[0m│\u001b[1m Epoch \u001b[0m│\u001b[1m    Loss \u001b[0m│\u001b[1m Accuracy \u001b[0m│\n",
      "├───────────────┼───────┼─────────┼──────────┤\n",
      "│ TrainingPhase │   8.0 │ 0.20555 │  0.93975 │\n",
      "└───────────────┴───────┴─────────┴──────────┘\n"
     ]
    },
    {
     "name": "stderr",
     "output_type": "stream",
     "text": [
      "\u001b[32mEpoch 8 ValidationPhase(): 100%|████████████████████████| Time: 0:00:00\u001b[39m\n"
     ]
    },
    {
     "name": "stdout",
     "output_type": "stream",
     "text": [
      "┌─────────────────┬───────┬─────────┬──────────┐\n",
      "│\u001b[1m           Phase \u001b[0m│\u001b[1m Epoch \u001b[0m│\u001b[1m    Loss \u001b[0m│\u001b[1m Accuracy \u001b[0m│\n",
      "├─────────────────┼───────┼─────────┼──────────┤\n",
      "│ ValidationPhase │   8.0 │ 0.24263 │  0.93359 │\n",
      "└─────────────────┴───────┴─────────┴──────────┘\n"
     ]
    },
    {
     "name": "stderr",
     "output_type": "stream",
     "text": [
      "\u001b[32mEpoch 9 TrainingPhase(): 100%|██████████████████████████| Time: 0:00:03\u001b[39m\n"
     ]
    },
    {
     "name": "stdout",
     "output_type": "stream",
     "text": [
      "┌───────────────┬───────┬─────────┬──────────┐\n",
      "│\u001b[1m         Phase \u001b[0m│\u001b[1m Epoch \u001b[0m│\u001b[1m    Loss \u001b[0m│\u001b[1m Accuracy \u001b[0m│\n",
      "├───────────────┼───────┼─────────┼──────────┤\n",
      "│ TrainingPhase │   9.0 │ 0.20291 │  0.94075 │\n",
      "└───────────────┴───────┴─────────┴──────────┘\n"
     ]
    },
    {
     "name": "stderr",
     "output_type": "stream",
     "text": [
      "\u001b[32mEpoch 9 ValidationPhase(): 100%|████████████████████████| Time: 0:00:00\u001b[39m\n"
     ]
    },
    {
     "name": "stdout",
     "output_type": "stream",
     "text": [
      "┌─────────────────┬───────┬─────────┬──────────┐\n",
      "│\u001b[1m           Phase \u001b[0m│\u001b[1m Epoch \u001b[0m│\u001b[1m    Loss \u001b[0m│\u001b[1m Accuracy \u001b[0m│\n",
      "├─────────────────┼───────┼─────────┼──────────┤\n",
      "│ ValidationPhase │   9.0 │ 0.23519 │  0.93457 │\n",
      "└─────────────────┴───────┴─────────┴──────────┘\n"
     ]
    },
    {
     "name": "stderr",
     "output_type": "stream",
     "text": [
      "\u001b[32mEpoch 10 TrainingPhase(): 100%|█████████████████████████| Time: 0:00:03\u001b[39m\n"
     ]
    },
    {
     "name": "stdout",
     "output_type": "stream",
     "text": [
      "┌───────────────┬───────┬─────────┬──────────┐\n",
      "│\u001b[1m         Phase \u001b[0m│\u001b[1m Epoch \u001b[0m│\u001b[1m    Loss \u001b[0m│\u001b[1m Accuracy \u001b[0m│\n",
      "├───────────────┼───────┼─────────┼──────────┤\n",
      "│ TrainingPhase │  10.0 │ 0.19846 │    0.942 │\n",
      "└───────────────┴───────┴─────────┴──────────┘\n"
     ]
    },
    {
     "name": "stderr",
     "output_type": "stream",
     "text": [
      "\u001b[32mEpoch 10 ValidationPhase(): 100%|███████████████████████| Time: 0:00:00\u001b[39m\n"
     ]
    },
    {
     "name": "stdout",
     "output_type": "stream",
     "text": [
      "┌─────────────────┬───────┬─────────┬──────────┐\n",
      "│\u001b[1m           Phase \u001b[0m│\u001b[1m Epoch \u001b[0m│\u001b[1m    Loss \u001b[0m│\u001b[1m Accuracy \u001b[0m│\n",
      "├─────────────────┼───────┼─────────┼──────────┤\n",
      "│ ValidationPhase │  10.0 │ 0.23493 │  0.93457 │\n",
      "└─────────────────┴───────┴─────────┴──────────┘\n"
     ]
    }
   ],
   "source": [
    "fitonecycle!(learner, 10, 0.002)"
   ]
  },
  {
   "cell_type": "markdown",
   "id": "911f9aa4",
   "metadata": {},
   "source": [
    "We can save the model for later inference using `savetaskmodel`:"
   ]
  },
  {
   "cell_type": "code",
   "execution_count": 23,
   "id": "c29a4c9e",
   "metadata": {},
   "outputs": [],
   "source": [
    "savetaskmodel(\"tsclassification.jld2\", task, learner.model; force = true)"
   ]
  },
  {
   "cell_type": "code",
   "execution_count": null,
   "id": "f28a366b",
   "metadata": {},
   "outputs": [],
   "source": []
  }
 ],
 "metadata": {
  "kernelspec": {
   "display_name": "Julia 1.7.3",
   "language": "julia",
   "name": "julia-1.7"
  },
  "language_info": {
   "file_extension": ".jl",
   "mimetype": "application/julia",
   "name": "julia",
   "version": "1.7.3"
  }
 },
 "nbformat": 4,
 "nbformat_minor": 5
}
